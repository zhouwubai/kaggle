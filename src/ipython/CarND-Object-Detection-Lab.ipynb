{
 "cells": [
  {
   "cell_type": "code",
   "execution_count": 62,
   "metadata": {},
   "outputs": [
    {
     "data": {
      "text/plain": [
       "'/Users/wubai.zhou/Downloads/models/frozen_inference_graph.pb'"
      ]
     },
     "execution_count": 62,
     "metadata": {},
     "output_type": "execute_result"
    }
   ],
   "source": [
    "ROOT = \"/Users/wubai.zhou/Downloads/models/\"\n",
    "GRAPH_FILE = ROOT + 'frozen_inference_graph.pb'\n",
    "\n",
    "input_video = ROOT + 'carla_tl_loop.mp4'\n",
    "output_video = ROOT + 'carla_tl_loop_labeled.mp4'\n",
    "#input_video = 'test_vid_jupyter/carla_tl_loop.mp4'\n",
    "#output_video = 'test_vid_jupyter/result_carla_tl_loop_ssd_mobilenet_v1_real_data.mp4'\n",
    "#input_video = 'test_vid_jupyter/carla_just_tl.mp4'\n",
    "#output_video = 'test_vid_jupyter/result_carla_just_tl_ssd_mobilenet_v1_real_data.mp4'\n",
    "\n",
    "NUM_CLASSES = 4\n",
    "category_index = {\n",
    "    1: {'id': 1, 'name': 'Green'},\n",
    "    2: {'id': 2, 'name': 'Red'},\n",
    "    3: {'id': 3, 'name': 'Yellow'},\n",
    "    4: {'id': 4, 'name': 'off'},\n",
    "    10: {'id': 10, 'name': 'unkown'},\n",
    "}\n",
    "GRAPH_FILE"
   ]
  },
  {
   "cell_type": "code",
   "execution_count": 63,
   "metadata": {},
   "outputs": [],
   "source": [
    "import tensorflow as tf\n",
    "import numpy as np\n",
    "import matplotlib.pyplot as plt\n",
    "from PIL import Image\n",
    "from PIL import ImageDraw\n",
    "from PIL import ImageColor\n",
    "from PIL import ImageFont\n",
    "import time\n",
    "from scipy.stats import norm"
   ]
  },
  {
   "cell_type": "code",
   "execution_count": 64,
   "metadata": {},
   "outputs": [
    {
     "name": "stdout",
     "output_type": "stream",
     "text": [
      "Number of colors = 148\n"
     ]
    }
   ],
   "source": [
    "# Colors (one for each class)\n",
    "cmap = ImageColor.colormap\n",
    "print(\"Number of colors =\", len(cmap))\n",
    "COLOR_LIST = sorted([c for c in cmap.keys()])\n",
    "\n",
    "#\n",
    "# Utility funcs\n",
    "#\n",
    "\n",
    "def filter_boxes(min_score, boxes, scores, classes, class_filter):\n",
    "    \"\"\"Return boxes with a confidence >= `min_score`\"\"\"\n",
    "    n = len(classes)\n",
    "    idxs = []\n",
    "    for i in range(n):\n",
    "        if scores[i] >= min_score: # and classes[i]==class_filter:\n",
    "            idxs.append(i)\n",
    "    \n",
    "    filtered_boxes = boxes[idxs, ...]\n",
    "    filtered_scores = scores[idxs, ...]\n",
    "    filtered_classes = classes[idxs, ...]\n",
    "    return filtered_boxes, filtered_scores, filtered_classes\n",
    "\n",
    "def to_image_coords(boxes, height, width):\n",
    "    \"\"\"\n",
    "    The original box coordinate output is normalized, i.e [0, 1].\n",
    "    \n",
    "    This converts it back to the original coordinate based on the image\n",
    "    size.\n",
    "    \"\"\"\n",
    "    box_coords = np.zeros_like(boxes)\n",
    "    box_coords[:, 0] = boxes[:, 0] * height\n",
    "    box_coords[:, 1] = boxes[:, 1] * width\n",
    "    box_coords[:, 2] = boxes[:, 2] * height\n",
    "    box_coords[:, 3] = boxes[:, 3] * width\n",
    "    \n",
    "    return box_coords\n",
    "\n",
    "def draw_boxes(image, boxes, scores, classes, thickness=4):\n",
    "    \"\"\"Draw bounding boxes on the image\"\"\"\n",
    "    draw = ImageDraw.Draw(image)\n",
    "    for i in range(len(boxes)):\n",
    "        bot, left, top, right = boxes[i, ...]\n",
    "        class_id = int(classes[i])\n",
    "        color = COLOR_LIST[class_id]\n",
    "        \n",
    "        class_name = category_index[classes[i]]['name']\n",
    "        disp_txt = \"%s : %f\" % (class_name,scores[i])\n",
    "        \n",
    "        draw.line([(left, top), (left, bot), (right, bot), (right, top), (left, top)], width=thickness, fill=color)\n",
    "        draw.text((left, top), disp_txt)\n",
    "\n",
    "def load_graph(graph_file):\n",
    "    \"\"\"Loads a frozen inference graph\"\"\"\n",
    "    graph = tf.Graph()\n",
    "    with graph.as_default():\n",
    "        od_graph_def = tf.GraphDef()\n",
    "        with tf.gfile.GFile(graph_file, 'rb') as fid:\n",
    "            serialized_graph = fid.read()\n",
    "            od_graph_def.ParseFromString(serialized_graph)\n",
    "            tf.import_graph_def(od_graph_def, name='')\n",
    "    return graph"
   ]
  },
  {
   "cell_type": "code",
   "execution_count": 65,
   "metadata": {},
   "outputs": [
    {
     "name": "stdout",
     "output_type": "stream",
     "text": [
      "/Users/wubai.zhou/Downloads/models/frozen_inference_graph.pb\n"
     ]
    }
   ],
   "source": [
    "print(GRAPH_FILE)\n",
    "detection_graph  = load_graph(GRAPH_FILE)\n",
    "\n",
    "# The input placeholder for the image.\n",
    "# `get_tensor_by_name` returns the Tensor with the associated name in the Graph.\n",
    "image_tensor = detection_graph.get_tensor_by_name('image_tensor:0')\n",
    "\n",
    "# Each box represents a part of the image where a particular object was detected.\n",
    "detection_boxes = detection_graph.get_tensor_by_name('detection_boxes:0')\n",
    "\n",
    "# Each score represent how level of confidence for each of the objects.\n",
    "# Score is shown on the result image, together with the class label.\n",
    "detection_scores = detection_graph.get_tensor_by_name('detection_scores:0')\n",
    "\n",
    "# The classification of the object (integer id).\n",
    "detection_classes = detection_graph.get_tensor_by_name('detection_classes:0')"
   ]
  },
  {
   "cell_type": "code",
   "execution_count": 66,
   "metadata": {},
   "outputs": [],
   "source": [
    "from moviepy.editor import VideoFileClip\n",
    "from IPython.display import HTML"
   ]
  },
  {
   "cell_type": "code",
   "execution_count": 67,
   "metadata": {},
   "outputs": [],
   "source": [
    "clip = VideoFileClip(input_video)"
   ]
  },
  {
   "cell_type": "code",
   "execution_count": 68,
   "metadata": {},
   "outputs": [],
   "source": [
    "def pipeline(img):\n",
    "    draw_img = Image.fromarray(img)\n",
    "    boxes, scores, classes = sess.run([detection_boxes, detection_scores, detection_classes], feed_dict={image_tensor: np.expand_dims(img, 0)})\n",
    "    # Remove unnecessary dimensions\n",
    "    boxes = np.squeeze(boxes)\n",
    "    scores = np.squeeze(scores)\n",
    "    classes = np.squeeze(classes).astype(np.int32)\n",
    "\n",
    "    confidence_cutoff = 0.5\n",
    "    class_filter = 10\n",
    "    # Filter boxes with a confidence score less than `confidence_cutoff`\n",
    "    boxes, scores, classes = filter_boxes(confidence_cutoff, boxes, scores, classes, class_filter)\n",
    "\n",
    "    # The current box coordinates are normalized to a range between 0 and 1.\n",
    "    # This converts the coordinates actual location on the image.\n",
    "    width, height = draw_img.size\n",
    "    box_coords = to_image_coords(boxes, height, width)\n",
    "\n",
    "    # Each class with be represented by a differently colored box\n",
    "    draw_boxes(draw_img, box_coords, scores, classes)\n",
    "    return np.array(draw_img)"
   ]
  },
  {
   "cell_type": "code",
   "execution_count": 69,
   "metadata": {},
   "outputs": [
    {
     "name": "stdout",
     "output_type": "stream",
     "text": [
      "[MoviePy] >>>> Building video /Users/wubai.zhou/Downloads/models/carla_tl_loop_labeled.mp4\n",
      "[MoviePy] Writing video /Users/wubai.zhou/Downloads/models/carla_tl_loop_labeled.mp4\n"
     ]
    },
    {
     "name": "stderr",
     "output_type": "stream",
     "text": [
      "100%|█████████▉| 1151/1152 [09:46<00:00,  2.02it/s]\n"
     ]
    },
    {
     "name": "stdout",
     "output_type": "stream",
     "text": [
      "[MoviePy] Done.\n",
      "[MoviePy] >>>> Video ready: /Users/wubai.zhou/Downloads/models/carla_tl_loop_labeled.mp4 \n",
      "\n"
     ]
    }
   ],
   "source": [
    "with tf.Session(graph=detection_graph) as sess:\n",
    "    image_tensor = sess.graph.get_tensor_by_name('image_tensor:0')\n",
    "    detection_boxes = sess.graph.get_tensor_by_name('detection_boxes:0')\n",
    "    detection_scores = sess.graph.get_tensor_by_name('detection_scores:0')\n",
    "    detection_classes = sess.graph.get_tensor_by_name('detection_classes:0')\n",
    "    \n",
    "    new_clip = clip.fl_image(pipeline)\n",
    "    \n",
    "    # write to file\n",
    "    new_clip.write_videofile(output_video)"
   ]
  },
  {
   "cell_type": "code",
   "execution_count": 70,
   "metadata": {},
   "outputs": [
    {
     "data": {
      "text/html": [
       "\n",
       "<video width=\"960\" height=\"600\" controls>\n",
       "  <source src=\"/Users/wubai.zhou/Downloads/models/carla_tl_loop_labeled.mp4\" type=\"video/mp4\">\n",
       "</video>\n"
      ],
      "text/plain": [
       "<IPython.core.display.HTML object>"
      ]
     },
     "execution_count": 70,
     "metadata": {},
     "output_type": "execute_result"
    }
   ],
   "source": [
    "HTML(\"\"\"\n",
    "<video width=\"960\" height=\"600\" controls>\n",
    "  <source src=\"{0}\" type=\"video/mp4\">\n",
    "</video>\n",
    "\"\"\".format(output_video))"
   ]
  },
  {
   "cell_type": "code",
   "execution_count": 12,
   "metadata": {},
   "outputs": [],
   "source": [
    "import yaml\n",
    "file_dir = \"/Users/wubai.zhou/Downloads/dataset-sdcnd-capstone/data/sim_training_data/\"\n",
    "%matplotlib inline  "
   ]
  },
  {
   "cell_type": "code",
   "execution_count": 14,
   "metadata": {},
   "outputs": [],
   "source": [
    "anno_file = file_dir + \"sim_data_annotations.yaml\"\n",
    "annotations = yaml.load(open(anno_file, 'r'))"
   ]
  },
  {
   "cell_type": "code",
   "execution_count": 10,
   "metadata": {},
   "outputs": [
    {
     "data": {
      "text/plain": [
       "{'annotations': [{'class': 'Green',\n",
       "   'x_width': 52.65248226950354,\n",
       "   'xmin': 130.4964539007092,\n",
       "   'y_height': 119.60283687943263,\n",
       "   'ymin': 289.36170212765956},\n",
       "  {'class': 'Green',\n",
       "   'x_width': 50.156028368794296,\n",
       "   'xmin': 375.60283687943263,\n",
       "   'y_height': 121.87234042553195,\n",
       "   'ymin': 293.90070921985813},\n",
       "  {'class': 'Green',\n",
       "   'x_width': 53.33333333333326,\n",
       "   'xmin': 623.6595744680851,\n",
       "   'y_height': 119.82978723404256,\n",
       "   'ymin': 297.7588652482269}],\n",
       " 'class': 'image',\n",
       " 'filename': 'sim_data_capture/left0003.jpg'}"
      ]
     },
     "execution_count": 10,
     "metadata": {},
     "output_type": "execute_result"
    }
   ],
   "source": [
    "annotations[0]"
   ]
  },
  {
   "cell_type": "code",
   "execution_count": 41,
   "metadata": {},
   "outputs": [],
   "source": [
    "import numpy as np\n",
    "color_to_id = {\"Green\": 1, \"Red\": 2, \"Yellow\": 3}\n",
    "def extract_info(annos):\n",
    "    boxes, classes, scores = [], [], []\n",
    "    for anno in annos['annotations']:\n",
    "        classes.append(color_to_id[anno['class']])\n",
    "        ymin = anno['ymin']\n",
    "        xmin = anno['xmin']\n",
    "        ymax = ymin + anno['y_height']\n",
    "        xmax = xmin + anno['x_width']\n",
    "        boxes.append((ymin, xmin, ymax, xmax))\n",
    "        scores.append(1)\n",
    "    return np.array(boxes), np.array(classes), np.array(scores)"
   ]
  },
  {
   "cell_type": "code",
   "execution_count": 52,
   "metadata": {},
   "outputs": [],
   "source": [
    "for anno in annotations:\n",
    "    img = Image.open(file_dir + anno['filename'])\n",
    "    boxes, classes, scores = extract_info(anno)\n",
    "    draw_boxes(img, boxes=boxes, scores=scores, classes=classes)\n",
    "    img.save(file_dir + 'combine/' + anno['filename'].split('/')[-1])"
   ]
  },
  {
   "cell_type": "code",
   "execution_count": 13,
   "metadata": {},
   "outputs": [],
   "source": [
    "img = Image.open(file_dir + annotations[0]['filename'])\n",
    "img.show()"
   ]
  },
  {
   "cell_type": "code",
   "execution_count": 43,
   "metadata": {},
   "outputs": [
    {
     "data": {
      "text/plain": [
       "array([[289.36170213, 130.4964539 , 408.96453901, 183.14893617],\n",
       "       [293.90070922, 375.60283688, 415.77304965, 425.75886525],\n",
       "       [297.75886525, 623.65957447, 417.58865248, 676.9929078 ]])"
      ]
     },
     "execution_count": 43,
     "metadata": {},
     "output_type": "execute_result"
    }
   ],
   "source": [
    "boxes, classes, scores = extract_info(annotations[0])\n",
    "boxes"
   ]
  },
  {
   "cell_type": "code",
   "execution_count": 45,
   "metadata": {},
   "outputs": [],
   "source": [
    "draw_boxes(img, boxes=boxes, scores=scores, classes=classes)"
   ]
  },
  {
   "cell_type": "code",
   "execution_count": 51,
   "metadata": {},
   "outputs": [],
   "source": [
    "img.save(file_dir + 'combine/' + annotations[0]['filename'].split('/')[-1])"
   ]
  },
  {
   "cell_type": "code",
   "execution_count": 60,
   "metadata": {},
   "outputs": [],
   "source": [
    "import os"
   ]
  },
  {
   "cell_type": "code",
   "execution_count": 61,
   "metadata": {},
   "outputs": [
    {
     "data": {
      "text/plain": [
       "'hdfs:///user/wubai.zhou/ltv/postfix/x/y'"
      ]
     },
     "execution_count": 61,
     "metadata": {},
     "output_type": "execute_result"
    }
   ],
   "source": [
    "os.path.join(\"hdfs:///user/wubai.zhou/ltv/postfix\", 'x', 'y')"
   ]
  }
 ],
 "metadata": {
  "kernelspec": {
   "display_name": "Python 2",
   "language": "python",
   "name": "python2"
  },
  "language_info": {
   "codemirror_mode": {
    "name": "ipython",
    "version": 3
   },
   "file_extension": ".py",
   "mimetype": "text/x-python",
   "name": "python",
   "nbconvert_exporter": "python",
   "pygments_lexer": "ipython3",
   "version": "3.6.4"
  }
 },
 "nbformat": 4,
 "nbformat_minor": 2
}
