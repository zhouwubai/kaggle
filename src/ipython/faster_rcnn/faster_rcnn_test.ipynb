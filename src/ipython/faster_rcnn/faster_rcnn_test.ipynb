{
 "cells": [
  {
   "cell_type": "code",
   "execution_count": 1,
   "metadata": {},
   "outputs": [],
   "source": [
    "import torch\n",
    "from torch.autograd import Variable"
   ]
  },
  {
   "cell_type": "code",
   "execution_count": 2,
   "metadata": {},
   "outputs": [
    {
     "name": "stdout",
     "output_type": "stream",
     "text": [
      "False\n"
     ]
    },
    {
     "data": {
      "text/plain": [
       "\n",
       " 0.9829  0.5952  0.2644\n",
       " 0.5827  0.9950  0.6859\n",
       " 0.5402  0.2441  0.6880\n",
       " 0.0269  0.3166  0.4145\n",
       " 0.9137  0.7390  0.7221\n",
       "[torch.FloatTensor of size 5x3]"
      ]
     },
     "execution_count": 2,
     "metadata": {},
     "output_type": "execute_result"
    }
   ],
   "source": [
    "y = torch.rand(5, 3)\n",
    "print(torch.cuda.is_available())\n",
    "y"
   ]
  },
  {
   "cell_type": "code",
   "execution_count": null,
   "metadata": {},
   "outputs": [],
   "source": [
    "y_cuda = y.cuda()"
   ]
  },
  {
   "cell_type": "code",
   "execution_count": 2,
   "metadata": {},
   "outputs": [
    {
     "name": "stdout",
     "output_type": "stream",
     "text": [
      "Variable containing:\n",
      " 1  1\n",
      " 1  1\n",
      "[torch.FloatTensor of size 2x2]\n",
      "\n"
     ]
    }
   ],
   "source": [
    "x = Variable(torch.ones(2, 2), requires_grad=True)\n",
    "print(x)"
   ]
  },
  {
   "cell_type": "code",
   "execution_count": 6,
   "metadata": {},
   "outputs": [],
   "source": [
    "y = x + 2"
   ]
  },
  {
   "cell_type": "code",
   "execution_count": null,
   "metadata": {},
   "outputs": [],
   "source": [
    "dir(y.grad_fn)"
   ]
  },
  {
   "cell_type": "code",
   "execution_count": 47,
   "metadata": {},
   "outputs": [],
   "source": [
    "z = y * y"
   ]
  },
  {
   "cell_type": "code",
   "execution_count": 48,
   "metadata": {},
   "outputs": [
    {
     "data": {
      "text/plain": [
       "Variable containing:\n",
       " 9  9\n",
       " 9  9\n",
       "[torch.FloatTensor of size 2x2]"
      ]
     },
     "execution_count": 48,
     "metadata": {},
     "output_type": "execute_result"
    }
   ],
   "source": [
    "z"
   ]
  },
  {
   "cell_type": "code",
   "execution_count": 45,
   "metadata": {},
   "outputs": [
    {
     "data": {
      "text/plain": [
       "((<AccumulateGrad at 0x104e6ac50>, 0),)"
      ]
     },
     "execution_count": 45,
     "metadata": {},
     "output_type": "execute_result"
    }
   ],
   "source": [
    "y.grad_fn.next_functions"
   ]
  },
  {
   "cell_type": "code",
   "execution_count": 56,
   "metadata": {},
   "outputs": [],
   "source": [
    "out = z.mean()\n",
    "out.backward()"
   ]
  },
  {
   "cell_type": "code",
   "execution_count": 75,
   "metadata": {},
   "outputs": [
    {
     "name": "stdout",
     "output_type": "stream",
     "text": [
      "Variable containing:\n",
      " 1.5000  1.5000\n",
      " 1.5000  1.5000\n",
      "[torch.FloatTensor of size 2x2]\n",
      "\n"
     ]
    }
   ],
   "source": [
    "print(x.grad)"
   ]
  },
  {
   "cell_type": "code",
   "execution_count": null,
   "metadata": {},
   "outputs": [],
   "source": [
    "x.zero_grad()"
   ]
  },
  {
   "cell_type": "code",
   "execution_count": 68,
   "metadata": {},
   "outputs": [
    {
     "data": {
      "text/plain": [
       "<function AddBackward0.register_hook>"
      ]
     },
     "execution_count": 68,
     "metadata": {},
     "output_type": "execute_result"
    }
   ],
   "source": [
    "y.grad_fn.register_hook"
   ]
  },
  {
   "cell_type": "code",
   "execution_count": 19,
   "metadata": {},
   "outputs": [
    {
     "name": "stdout",
     "output_type": "stream",
     "text": [
      "Net(\n",
      "  (conv1): Conv2d(1, 6, kernel_size=(5, 5), stride=(1, 1))\n",
      "  (conv2): Conv2d(6, 16, kernel_size=(5, 5), stride=(1, 1))\n",
      "  (fc1): Linear(in_features=400, out_features=120, bias=True)\n",
      "  (fc2): Linear(in_features=120, out_features=84, bias=True)\n",
      "  (fc3): Linear(in_features=84, out_features=10, bias=True)\n",
      ")\n"
     ]
    }
   ],
   "source": [
    "import torch\n",
    "from torch.autograd import Variable\n",
    "import torch.nn as nn\n",
    "import torch.nn.functional as F\n",
    "\n",
    "\n",
    "class Net(nn.Module):\n",
    "\n",
    "    def __init__(self):\n",
    "        super(Net, self).__init__()\n",
    "        # 1 input image channel, 6 output channels, 5x5 square convolution\n",
    "        # kernel\n",
    "        self.conv1 = nn.Conv2d(1, 6, 5)\n",
    "        self.conv2 = nn.Conv2d(6, 16, 5)\n",
    "        # an affine operation: y = Wx + b\n",
    "        self.fc1 = nn.Linear(16 * 5 * 5, 120)\n",
    "        self.fc2 = nn.Linear(120, 84)\n",
    "        self.fc3 = nn.Linear(84, 10)\n",
    "\n",
    "    def forward(self, x):\n",
    "        # Max pooling over a (2, 2) window\n",
    "        x = F.max_pool2d(F.relu(self.conv1(x)), (2, 2))\n",
    "        # If the size is a square you can only specify a single number\n",
    "        x = F.max_pool2d(F.relu(self.conv2(x)), 2)\n",
    "        x = x.view(-1, self.num_flat_features(x))\n",
    "        x = F.relu(self.fc1(x))\n",
    "        x = F.relu(self.fc2(x))\n",
    "        x = self.fc3(x)\n",
    "        return x\n",
    "\n",
    "    def num_flat_features(self, x):\n",
    "        size = x.size()[1:]  # all dimensions except the batch dimension\n",
    "        num_features = 1\n",
    "        for s in size:\n",
    "            num_features *= s\n",
    "        return num_features\n",
    "\n",
    "\n",
    "net = Net()\n",
    "print(net)"
   ]
  },
  {
   "cell_type": "code",
   "execution_count": 20,
   "metadata": {},
   "outputs": [
    {
     "data": {
      "text/plain": [
       "<bound method Module.parameters of Net(\n",
       "  (conv1): Conv2d(1, 6, kernel_size=(5, 5), stride=(1, 1))\n",
       "  (conv2): Conv2d(6, 16, kernel_size=(5, 5), stride=(1, 1))\n",
       "  (fc1): Linear(in_features=400, out_features=120, bias=True)\n",
       "  (fc2): Linear(in_features=120, out_features=84, bias=True)\n",
       "  (fc3): Linear(in_features=84, out_features=10, bias=True)\n",
       ")>"
      ]
     },
     "execution_count": 20,
     "metadata": {},
     "output_type": "execute_result"
    }
   ],
   "source": [
    "net.parameters"
   ]
  },
  {
   "cell_type": "code",
   "execution_count": 21,
   "metadata": {},
   "outputs": [],
   "source": [
    "params = list(net.parameters())"
   ]
  },
  {
   "cell_type": "code",
   "execution_count": 23,
   "metadata": {},
   "outputs": [],
   "source": [
    "import torchvision.models as models\n",
    "vgg16 = models.vgg16(pretrained=True)"
   ]
  },
  {
   "cell_type": "code",
   "execution_count": 25,
   "metadata": {},
   "outputs": [
    {
     "data": {
      "text/plain": [
       "Sequential(\n",
       "  (0): Conv2d(3, 64, kernel_size=(3, 3), stride=(1, 1), padding=(1, 1))\n",
       "  (1): ReLU(inplace)\n",
       "  (2): Conv2d(64, 64, kernel_size=(3, 3), stride=(1, 1), padding=(1, 1))\n",
       "  (3): ReLU(inplace)\n",
       "  (4): MaxPool2d(kernel_size=(2, 2), stride=(2, 2), dilation=(1, 1), ceil_mode=False)\n",
       "  (5): Conv2d(64, 128, kernel_size=(3, 3), stride=(1, 1), padding=(1, 1))\n",
       "  (6): ReLU(inplace)\n",
       "  (7): Conv2d(128, 128, kernel_size=(3, 3), stride=(1, 1), padding=(1, 1))\n",
       "  (8): ReLU(inplace)\n",
       "  (9): MaxPool2d(kernel_size=(2, 2), stride=(2, 2), dilation=(1, 1), ceil_mode=False)\n",
       "  (10): Conv2d(128, 256, kernel_size=(3, 3), stride=(1, 1), padding=(1, 1))\n",
       "  (11): ReLU(inplace)\n",
       "  (12): Conv2d(256, 256, kernel_size=(3, 3), stride=(1, 1), padding=(1, 1))\n",
       "  (13): ReLU(inplace)\n",
       "  (14): Conv2d(256, 256, kernel_size=(3, 3), stride=(1, 1), padding=(1, 1))\n",
       "  (15): ReLU(inplace)\n",
       "  (16): MaxPool2d(kernel_size=(2, 2), stride=(2, 2), dilation=(1, 1), ceil_mode=False)\n",
       "  (17): Conv2d(256, 512, kernel_size=(3, 3), stride=(1, 1), padding=(1, 1))\n",
       "  (18): ReLU(inplace)\n",
       "  (19): Conv2d(512, 512, kernel_size=(3, 3), stride=(1, 1), padding=(1, 1))\n",
       "  (20): ReLU(inplace)\n",
       "  (21): Conv2d(512, 512, kernel_size=(3, 3), stride=(1, 1), padding=(1, 1))\n",
       "  (22): ReLU(inplace)\n",
       "  (23): MaxPool2d(kernel_size=(2, 2), stride=(2, 2), dilation=(1, 1), ceil_mode=False)\n",
       "  (24): Conv2d(512, 512, kernel_size=(3, 3), stride=(1, 1), padding=(1, 1))\n",
       "  (25): ReLU(inplace)\n",
       "  (26): Conv2d(512, 512, kernel_size=(3, 3), stride=(1, 1), padding=(1, 1))\n",
       "  (27): ReLU(inplace)\n",
       "  (28): Conv2d(512, 512, kernel_size=(3, 3), stride=(1, 1), padding=(1, 1))\n",
       "  (29): ReLU(inplace)\n",
       "  (30): MaxPool2d(kernel_size=(2, 2), stride=(2, 2), dilation=(1, 1), ceil_mode=False)\n",
       ")"
      ]
     },
     "execution_count": 25,
     "metadata": {},
     "output_type": "execute_result"
    }
   ],
   "source": [
    "vgg16.features"
   ]
  },
  {
   "cell_type": "code",
   "execution_count": 30,
   "metadata": {},
   "outputs": [
    {
     "data": {
      "text/plain": [
       "Sequential(\n",
       "  (0): Linear(in_features=25088, out_features=4096, bias=True)\n",
       "  (1): ReLU(inplace)\n",
       "  (2): Dropout(p=0.5)\n",
       "  (3): Linear(in_features=4096, out_features=4096, bias=True)\n",
       "  (4): ReLU(inplace)\n",
       "  (5): Dropout(p=0.5)\n",
       "  (6): Linear(in_features=4096, out_features=1000, bias=True)\n",
       ")"
      ]
     },
     "execution_count": 30,
     "metadata": {},
     "output_type": "execute_result"
    }
   ],
   "source": [
    "vgg16.classifier"
   ]
  },
  {
   "cell_type": "code",
   "execution_count": 8,
   "metadata": {},
   "outputs": [],
   "source": [
    "from torchviz import make_dot"
   ]
  },
  {
   "cell_type": "code",
   "execution_count": 114,
   "metadata": {},
   "outputs": [
    {
     "name": "stdout",
     "output_type": "stream",
     "text": [
      "Variable containing:\n",
      "-0.7523  1.5664 -0.1663  ...  -2.2150  0.9158  1.4344\n",
      "[torch.FloatTensor of size 1x1000]\n",
      "\n"
     ]
    }
   ],
   "source": [
    "inputs = torch.rand(1,3,224,224)\n",
    "y = model(torch.autograd.Variable(inputs))\n",
    "print(y)"
   ]
  },
  {
   "cell_type": "code",
   "execution_count": 116,
   "metadata": {},
   "outputs": [
    {
     "data": {
      "text/plain": [
       "torch.autograd.variable.Variable"
      ]
     },
     "execution_count": 116,
     "metadata": {},
     "output_type": "execute_result"
    }
   ],
   "source": [
    "print"
   ]
  },
  {
   "cell_type": "code",
   "execution_count": 88,
   "metadata": {},
   "outputs": [
    {
     "data": {
      "image/svg+xml": [
       "<?xml version=\"1.0\" encoding=\"UTF-8\" standalone=\"no\"?>\n",
       "<!DOCTYPE svg PUBLIC \"-//W3C//DTD SVG 1.1//EN\"\n",
       " \"http://www.w3.org/Graphics/SVG/1.1/DTD/svg11.dtd\">\n",
       "<!-- Generated by graphviz version 2.40.1 (20161225.0304)\n",
       " -->\n",
       "<!-- Title: %3 Pages: 1 -->\n",
       "<svg width=\"609pt\" height=\"864pt\"\n",
       " viewBox=\"0.00 0.00 608.63 864.00\" xmlns=\"http://www.w3.org/2000/svg\" xmlns:xlink=\"http://www.w3.org/1999/xlink\">\n",
       "<g id=\"graph0\" class=\"graph\" transform=\"scale(.3547 .3547) rotate(0) translate(4 2432)\">\n",
       "<title>%3</title>\n",
       "<polygon fill=\"#ffffff\" stroke=\"transparent\" points=\"-4,4 -4,-2432 1711.9922,-2432 1711.9922,4 -4,4\"/>\n",
       "<!-- 4378993664 -->\n",
       "<g id=\"node1\" class=\"node\">\n",
       "<title>4378993664</title>\n",
       "<polygon fill=\"#d3d3d3\" stroke=\"#000000\" points=\"1603.4746,-20 1499.5176,-20 1499.5176,0 1603.4746,0 1603.4746,-20\"/>\n",
       "<text text-anchor=\"middle\" x=\"1551.4961\" y=\"-6.4\" font-family=\"Times,serif\" font-size=\"12.00\" fill=\"#000000\">AddmmBackward</text>\n",
       "</g>\n",
       "<!-- 4378994392 -->\n",
       "<g id=\"node2\" class=\"node\">\n",
       "<title>4378994392</title>\n",
       "<polygon fill=\"#d3d3d3\" stroke=\"#000000\" points=\"1481.2973,-76 1379.6949,-76 1379.6949,-56 1481.2973,-56 1481.2973,-76\"/>\n",
       "<text text-anchor=\"middle\" x=\"1430.4961\" y=\"-62.4\" font-family=\"Times,serif\" font-size=\"12.00\" fill=\"#000000\">ExpandBackward</text>\n",
       "</g>\n",
       "<!-- 4378994392&#45;&gt;4378993664 -->\n",
       "<g id=\"edge1\" class=\"edge\">\n",
       "<title>4378994392&#45;&gt;4378993664</title>\n",
       "<path fill=\"none\" stroke=\"#000000\" d=\"M1452.1285,-55.9883C1471.1098,-47.2036 1498.9429,-34.3222 1520.3268,-24.4255\"/>\n",
       "<polygon fill=\"#000000\" stroke=\"#000000\" points=\"1522.0379,-27.4903 1529.643,-20.1138 1519.0978,-21.1376 1522.0379,-27.4903\"/>\n",
       "</g>\n",
       "<!-- 4378995512 -->\n",
       "<g id=\"node3\" class=\"node\">\n",
       "<title>4378995512</title>\n",
       "<polygon fill=\"#add8e6\" stroke=\"#000000\" points=\"1457.4961,-146 1403.4961,-146 1403.4961,-112 1457.4961,-112 1457.4961,-146\"/>\n",
       "<text text-anchor=\"middle\" x=\"1430.4961\" y=\"-118.4\" font-family=\"Times,serif\" font-size=\"12.00\" fill=\"#000000\"> (1000)</text>\n",
       "</g>\n",
       "<!-- 4378995512&#45;&gt;4378994392 -->\n",
       "<g id=\"edge2\" class=\"edge\">\n",
       "<title>4378995512&#45;&gt;4378994392</title>\n",
       "<path fill=\"none\" stroke=\"#000000\" d=\"M1430.4961,-111.785C1430.4961,-103.9703 1430.4961,-94.6675 1430.4961,-86.4951\"/>\n",
       "<polygon fill=\"#000000\" stroke=\"#000000\" points=\"1433.9962,-86.2974 1430.4961,-76.2974 1426.9962,-86.2974 1433.9962,-86.2974\"/>\n",
       "</g>\n",
       "<!-- 4385743592 -->\n",
       "<g id=\"node4\" class=\"node\">\n",
       "<title>4385743592</title>\n",
       "<polygon fill=\"#d3d3d3\" stroke=\"#000000\" points=\"1603.6373,-76 1499.3549,-76 1499.3549,-56 1603.6373,-56 1603.6373,-76\"/>\n",
       "<text text-anchor=\"middle\" x=\"1551.4961\" y=\"-62.4\" font-family=\"Times,serif\" font-size=\"12.00\" fill=\"#000000\">DropoutBackward</text>\n",
       "</g>\n",
       "<!-- 4385743592&#45;&gt;4378993664 -->\n",
       "<g id=\"edge3\" class=\"edge\">\n",
       "<title>4385743592&#45;&gt;4378993664</title>\n",
       "<path fill=\"none\" stroke=\"#000000\" d=\"M1551.4961,-55.9883C1551.4961,-48.9098 1551.4961,-39.1714 1551.4961,-30.4779\"/>\n",
       "<polygon fill=\"#000000\" stroke=\"#000000\" points=\"1554.9962,-30.3038 1551.4961,-20.3039 1547.9962,-30.3039 1554.9962,-30.3038\"/>\n",
       "</g>\n",
       "<!-- 4386548872 -->\n",
       "<g id=\"node5\" class=\"node\">\n",
       "<title>4386548872</title>\n",
       "<polygon fill=\"#d3d3d3\" stroke=\"#000000\" points=\"1605.2973,-139 1491.6949,-139 1491.6949,-119 1605.2973,-119 1605.2973,-139\"/>\n",
       "<text text-anchor=\"middle\" x=\"1548.4961\" y=\"-125.4\" font-family=\"Times,serif\" font-size=\"12.00\" fill=\"#000000\">ThresholdBackward</text>\n",
       "</g>\n",
       "<!-- 4386548872&#45;&gt;4385743592 -->\n",
       "<g id=\"edge4\" class=\"edge\">\n",
       "<title>4386548872&#45;&gt;4385743592</title>\n",
       "<path fill=\"none\" stroke=\"#000000\" d=\"M1548.9781,-118.878C1549.3911,-110.2041 1549.9992,-97.4355 1550.5143,-86.6186\"/>\n",
       "<polygon fill=\"#000000\" stroke=\"#000000\" points=\"1554.0256,-86.4614 1551.0053,-76.3062 1547.0335,-86.1284 1554.0256,-86.4614\"/>\n",
       "</g>\n",
       "<!-- 4464967240 -->\n",
       "<g id=\"node6\" class=\"node\">\n",
       "<title>4464967240</title>\n",
       "<polygon fill=\"#d3d3d3\" stroke=\"#000000\" points=\"1600.4746,-202 1496.5176,-202 1496.5176,-182 1600.4746,-182 1600.4746,-202\"/>\n",
       "<text text-anchor=\"middle\" x=\"1548.4961\" y=\"-188.4\" font-family=\"Times,serif\" font-size=\"12.00\" fill=\"#000000\">AddmmBackward</text>\n",
       "</g>\n",
       "<!-- 4464967240&#45;&gt;4386548872 -->\n",
       "<g id=\"edge5\" class=\"edge\">\n",
       "<title>4464967240&#45;&gt;4386548872</title>\n",
       "<path fill=\"none\" stroke=\"#000000\" d=\"M1548.4961,-181.878C1548.4961,-173.2041 1548.4961,-160.4355 1548.4961,-149.6186\"/>\n",
       "<polygon fill=\"#000000\" stroke=\"#000000\" points=\"1551.9962,-149.3062 1548.4961,-139.3062 1544.9962,-149.3062 1551.9962,-149.3062\"/>\n",
       "</g>\n",
       "<!-- 4465020768 -->\n",
       "<g id=\"node7\" class=\"node\">\n",
       "<title>4465020768</title>\n",
       "<polygon fill=\"#d3d3d3\" stroke=\"#000000\" points=\"1478.2973,-258 1376.6949,-258 1376.6949,-238 1478.2973,-238 1478.2973,-258\"/>\n",
       "<text text-anchor=\"middle\" x=\"1427.4961\" y=\"-244.4\" font-family=\"Times,serif\" font-size=\"12.00\" fill=\"#000000\">ExpandBackward</text>\n",
       "</g>\n",
       "<!-- 4465020768&#45;&gt;4464967240 -->\n",
       "<g id=\"edge6\" class=\"edge\">\n",
       "<title>4465020768&#45;&gt;4464967240</title>\n",
       "<path fill=\"none\" stroke=\"#000000\" d=\"M1449.1285,-237.9883C1468.1098,-229.2036 1495.9429,-216.3222 1517.3268,-206.4255\"/>\n",
       "<polygon fill=\"#000000\" stroke=\"#000000\" points=\"1519.0379,-209.4903 1526.643,-202.1138 1516.0978,-203.1376 1519.0379,-209.4903\"/>\n",
       "</g>\n",
       "<!-- 4465020320 -->\n",
       "<g id=\"node8\" class=\"node\">\n",
       "<title>4465020320</title>\n",
       "<polygon fill=\"#add8e6\" stroke=\"#000000\" points=\"1454.4961,-328 1400.4961,-328 1400.4961,-294 1454.4961,-294 1454.4961,-328\"/>\n",
       "<text text-anchor=\"middle\" x=\"1427.4961\" y=\"-300.4\" font-family=\"Times,serif\" font-size=\"12.00\" fill=\"#000000\"> (4096)</text>\n",
       "</g>\n",
       "<!-- 4465020320&#45;&gt;4465020768 -->\n",
       "<g id=\"edge7\" class=\"edge\">\n",
       "<title>4465020320&#45;&gt;4465020768</title>\n",
       "<path fill=\"none\" stroke=\"#000000\" d=\"M1427.4961,-293.785C1427.4961,-285.9703 1427.4961,-276.6675 1427.4961,-268.4951\"/>\n",
       "<polygon fill=\"#000000\" stroke=\"#000000\" points=\"1430.9962,-268.2974 1427.4961,-258.2974 1423.9962,-268.2974 1430.9962,-268.2974\"/>\n",
       "</g>\n",
       "<!-- 4385743928 -->\n",
       "<g id=\"node9\" class=\"node\">\n",
       "<title>4385743928</title>\n",
       "<polygon fill=\"#d3d3d3\" stroke=\"#000000\" points=\"1600.6373,-258 1496.3549,-258 1496.3549,-238 1600.6373,-238 1600.6373,-258\"/>\n",
       "<text text-anchor=\"middle\" x=\"1548.4961\" y=\"-244.4\" font-family=\"Times,serif\" font-size=\"12.00\" fill=\"#000000\">DropoutBackward</text>\n",
       "</g>\n",
       "<!-- 4385743928&#45;&gt;4464967240 -->\n",
       "<g id=\"edge8\" class=\"edge\">\n",
       "<title>4385743928&#45;&gt;4464967240</title>\n",
       "<path fill=\"none\" stroke=\"#000000\" d=\"M1548.4961,-237.9883C1548.4961,-230.9098 1548.4961,-221.1714 1548.4961,-212.4779\"/>\n",
       "<polygon fill=\"#000000\" stroke=\"#000000\" points=\"1551.9962,-212.3038 1548.4961,-202.3039 1544.9962,-212.3039 1551.9962,-212.3038\"/>\n",
       "</g>\n",
       "<!-- 4465020544 -->\n",
       "<g id=\"node10\" class=\"node\">\n",
       "<title>4465020544</title>\n",
       "<polygon fill=\"#d3d3d3\" stroke=\"#000000\" points=\"1602.2973,-321 1488.6949,-321 1488.6949,-301 1602.2973,-301 1602.2973,-321\"/>\n",
       "<text text-anchor=\"middle\" x=\"1545.4961\" y=\"-307.4\" font-family=\"Times,serif\" font-size=\"12.00\" fill=\"#000000\">ThresholdBackward</text>\n",
       "</g>\n",
       "<!-- 4465020544&#45;&gt;4385743928 -->\n",
       "<g id=\"edge9\" class=\"edge\">\n",
       "<title>4465020544&#45;&gt;4385743928</title>\n",
       "<path fill=\"none\" stroke=\"#000000\" d=\"M1545.9781,-300.878C1546.3911,-292.2041 1546.9992,-279.4355 1547.5143,-268.6186\"/>\n",
       "<polygon fill=\"#000000\" stroke=\"#000000\" points=\"1551.0256,-268.4614 1548.0053,-258.3062 1544.0335,-268.1284 1551.0256,-268.4614\"/>\n",
       "</g>\n",
       "<!-- 4465063304 -->\n",
       "<g id=\"node11\" class=\"node\">\n",
       "<title>4465063304</title>\n",
       "<polygon fill=\"#d3d3d3\" stroke=\"#000000\" points=\"1597.4746,-384 1493.5176,-384 1493.5176,-364 1597.4746,-364 1597.4746,-384\"/>\n",
       "<text text-anchor=\"middle\" x=\"1545.4961\" y=\"-370.4\" font-family=\"Times,serif\" font-size=\"12.00\" fill=\"#000000\">AddmmBackward</text>\n",
       "</g>\n",
       "<!-- 4465063304&#45;&gt;4465020544 -->\n",
       "<g id=\"edge10\" class=\"edge\">\n",
       "<title>4465063304&#45;&gt;4465020544</title>\n",
       "<path fill=\"none\" stroke=\"#000000\" d=\"M1545.4961,-363.878C1545.4961,-355.2041 1545.4961,-342.4355 1545.4961,-331.6186\"/>\n",
       "<polygon fill=\"#000000\" stroke=\"#000000\" points=\"1548.9962,-331.3062 1545.4961,-321.3062 1541.9962,-331.3062 1548.9962,-331.3062\"/>\n",
       "</g>\n",
       "<!-- 4465065488 -->\n",
       "<g id=\"node12\" class=\"node\">\n",
       "<title>4465065488</title>\n",
       "<polygon fill=\"#d3d3d3\" stroke=\"#000000\" points=\"1482.2973,-440 1380.6949,-440 1380.6949,-420 1482.2973,-420 1482.2973,-440\"/>\n",
       "<text text-anchor=\"middle\" x=\"1431.4961\" y=\"-426.4\" font-family=\"Times,serif\" font-size=\"12.00\" fill=\"#000000\">ExpandBackward</text>\n",
       "</g>\n",
       "<!-- 4465065488&#45;&gt;4465063304 -->\n",
       "<g id=\"edge11\" class=\"edge\">\n",
       "<title>4465065488&#45;&gt;4465063304</title>\n",
       "<path fill=\"none\" stroke=\"#000000\" d=\"M1451.877,-419.9883C1469.6797,-411.2431 1495.7471,-398.4381 1515.8573,-388.5594\"/>\n",
       "<polygon fill=\"#000000\" stroke=\"#000000\" points=\"1517.4749,-391.6644 1524.9073,-384.1138 1514.3885,-385.3815 1517.4749,-391.6644\"/>\n",
       "</g>\n",
       "<!-- 4465466784 -->\n",
       "<g id=\"node13\" class=\"node\">\n",
       "<title>4465466784</title>\n",
       "<polygon fill=\"#add8e6\" stroke=\"#000000\" points=\"1458.4961,-510 1404.4961,-510 1404.4961,-476 1458.4961,-476 1458.4961,-510\"/>\n",
       "<text text-anchor=\"middle\" x=\"1431.4961\" y=\"-482.4\" font-family=\"Times,serif\" font-size=\"12.00\" fill=\"#000000\"> (4096)</text>\n",
       "</g>\n",
       "<!-- 4465466784&#45;&gt;4465065488 -->\n",
       "<g id=\"edge12\" class=\"edge\">\n",
       "<title>4465466784&#45;&gt;4465065488</title>\n",
       "<path fill=\"none\" stroke=\"#000000\" d=\"M1431.4961,-475.785C1431.4961,-467.9703 1431.4961,-458.6675 1431.4961,-450.4951\"/>\n",
       "<polygon fill=\"#000000\" stroke=\"#000000\" points=\"1434.9962,-450.2974 1431.4961,-440.2974 1427.9962,-450.2974 1434.9962,-450.2974\"/>\n",
       "</g>\n",
       "<!-- 4465065936 -->\n",
       "<g id=\"node14\" class=\"node\">\n",
       "<title>4465065936</title>\n",
       "<polygon fill=\"#d3d3d3\" stroke=\"#000000\" points=\"1590.418,-440 1500.5742,-440 1500.5742,-420 1590.418,-420 1590.418,-440\"/>\n",
       "<text text-anchor=\"middle\" x=\"1545.4961\" y=\"-426.4\" font-family=\"Times,serif\" font-size=\"12.00\" fill=\"#000000\">ViewBackward</text>\n",
       "</g>\n",
       "<!-- 4465065936&#45;&gt;4465063304 -->\n",
       "<g id=\"edge13\" class=\"edge\">\n",
       "<title>4465065936&#45;&gt;4465063304</title>\n",
       "<path fill=\"none\" stroke=\"#000000\" d=\"M1545.4961,-419.9883C1545.4961,-412.9098 1545.4961,-403.1714 1545.4961,-394.4779\"/>\n",
       "<polygon fill=\"#000000\" stroke=\"#000000\" points=\"1548.9962,-394.3038 1545.4961,-384.3039 1541.9962,-394.3039 1548.9962,-394.3038\"/>\n",
       "</g>\n",
       "<!-- 4465467232 -->\n",
       "<g id=\"node15\" class=\"node\">\n",
       "<title>4465467232</title>\n",
       "<polygon fill=\"#d3d3d3\" stroke=\"#000000\" points=\"1603.3109,-503 1479.6812,-503 1479.6812,-483 1603.3109,-483 1603.3109,-503\"/>\n",
       "<text text-anchor=\"middle\" x=\"1541.4961\" y=\"-489.4\" font-family=\"Times,serif\" font-size=\"12.00\" fill=\"#000000\">MaxPool2DBackward</text>\n",
       "</g>\n",
       "<!-- 4465467232&#45;&gt;4465065936 -->\n",
       "<g id=\"edge14\" class=\"edge\">\n",
       "<title>4465467232&#45;&gt;4465065936</title>\n",
       "<path fill=\"none\" stroke=\"#000000\" d=\"M1542.1388,-482.878C1542.6895,-474.2041 1543.5002,-461.4355 1544.187,-450.6186\"/>\n",
       "<polygon fill=\"#000000\" stroke=\"#000000\" points=\"1547.701,-450.5079 1544.8417,-440.3062 1540.715,-450.0643 1547.701,-450.5079\"/>\n",
       "</g>\n",
       "<!-- 4947008200 -->\n",
       "<g id=\"node16\" class=\"node\">\n",
       "<title>4947008200</title>\n",
       "<polygon fill=\"#d3d3d3\" stroke=\"#000000\" points=\"1598.2973,-566 1484.6949,-566 1484.6949,-546 1598.2973,-546 1598.2973,-566\"/>\n",
       "<text text-anchor=\"middle\" x=\"1541.4961\" y=\"-552.4\" font-family=\"Times,serif\" font-size=\"12.00\" fill=\"#000000\">ThresholdBackward</text>\n",
       "</g>\n",
       "<!-- 4947008200&#45;&gt;4465467232 -->\n",
       "<g id=\"edge15\" class=\"edge\">\n",
       "<title>4947008200&#45;&gt;4465467232</title>\n",
       "<path fill=\"none\" stroke=\"#000000\" d=\"M1541.4961,-545.878C1541.4961,-537.2041 1541.4961,-524.4355 1541.4961,-513.6186\"/>\n",
       "<polygon fill=\"#000000\" stroke=\"#000000\" points=\"1544.9962,-513.3062 1541.4961,-503.3062 1537.9962,-513.3062 1544.9962,-513.3062\"/>\n",
       "</g>\n",
       "<!-- 4465000576 -->\n",
       "<g id=\"node17\" class=\"node\">\n",
       "<title>4465000576</title>\n",
       "<polygon fill=\"#d3d3d3\" stroke=\"#000000\" points=\"1594.311,-622 1488.6812,-622 1488.6812,-602 1594.311,-602 1594.311,-622\"/>\n",
       "<text text-anchor=\"middle\" x=\"1541.4961\" y=\"-608.4\" font-family=\"Times,serif\" font-size=\"12.00\" fill=\"#000000\">ConvNdBackward</text>\n",
       "</g>\n",
       "<!-- 4465000576&#45;&gt;4947008200 -->\n",
       "<g id=\"edge16\" class=\"edge\">\n",
       "<title>4465000576&#45;&gt;4947008200</title>\n",
       "<path fill=\"none\" stroke=\"#000000\" d=\"M1541.4961,-601.9883C1541.4961,-594.9098 1541.4961,-585.1714 1541.4961,-576.4779\"/>\n",
       "<polygon fill=\"#000000\" stroke=\"#000000\" points=\"1544.9962,-576.3038 1541.4961,-566.3039 1537.9962,-576.3039 1544.9962,-576.3038\"/>\n",
       "</g>\n",
       "<!-- 4465001136 -->\n",
       "<g id=\"node18\" class=\"node\">\n",
       "<title>4465001136</title>\n",
       "<polygon fill=\"#d3d3d3\" stroke=\"#000000\" points=\"1477.2973,-685 1363.6949,-685 1363.6949,-665 1477.2973,-665 1477.2973,-685\"/>\n",
       "<text text-anchor=\"middle\" x=\"1420.4961\" y=\"-671.4\" font-family=\"Times,serif\" font-size=\"12.00\" fill=\"#000000\">ThresholdBackward</text>\n",
       "</g>\n",
       "<!-- 4465001136&#45;&gt;4465000576 -->\n",
       "<g id=\"edge17\" class=\"edge\">\n",
       "<title>4465001136&#45;&gt;4465000576</title>\n",
       "<path fill=\"none\" stroke=\"#000000\" d=\"M1439.9368,-664.878C1459.6943,-654.591 1490.5131,-638.5448 1513.0221,-626.8253\"/>\n",
       "<polygon fill=\"#000000\" stroke=\"#000000\" points=\"1514.8502,-629.8195 1522.1036,-622.0969 1511.6174,-623.6107 1514.8502,-629.8195\"/>\n",
       "</g>\n",
       "<!-- 4465002256 -->\n",
       "<g id=\"node19\" class=\"node\">\n",
       "<title>4465002256</title>\n",
       "<polygon fill=\"#d3d3d3\" stroke=\"#000000\" points=\"1473.311,-748 1367.6812,-748 1367.6812,-728 1473.311,-728 1473.311,-748\"/>\n",
       "<text text-anchor=\"middle\" x=\"1420.4961\" y=\"-734.4\" font-family=\"Times,serif\" font-size=\"12.00\" fill=\"#000000\">ConvNdBackward</text>\n",
       "</g>\n",
       "<!-- 4465002256&#45;&gt;4465001136 -->\n",
       "<g id=\"edge18\" class=\"edge\">\n",
       "<title>4465002256&#45;&gt;4465001136</title>\n",
       "<path fill=\"none\" stroke=\"#000000\" d=\"M1420.4961,-727.878C1420.4961,-719.2041 1420.4961,-706.4355 1420.4961,-695.6186\"/>\n",
       "<polygon fill=\"#000000\" stroke=\"#000000\" points=\"1423.9962,-695.3062 1420.4961,-685.3062 1416.9962,-695.3062 1423.9962,-695.3062\"/>\n",
       "</g>\n",
       "<!-- 4465003152 -->\n",
       "<g id=\"node20\" class=\"node\">\n",
       "<title>4465003152</title>\n",
       "<polygon fill=\"#d3d3d3\" stroke=\"#000000\" points=\"1356.2973,-811 1242.6949,-811 1242.6949,-791 1356.2973,-791 1356.2973,-811\"/>\n",
       "<text text-anchor=\"middle\" x=\"1299.4961\" y=\"-797.4\" font-family=\"Times,serif\" font-size=\"12.00\" fill=\"#000000\">ThresholdBackward</text>\n",
       "</g>\n",
       "<!-- 4465003152&#45;&gt;4465002256 -->\n",
       "<g id=\"edge19\" class=\"edge\">\n",
       "<title>4465003152&#45;&gt;4465002256</title>\n",
       "<path fill=\"none\" stroke=\"#000000\" d=\"M1318.9368,-790.878C1338.6943,-780.591 1369.5131,-764.5448 1392.0221,-752.8253\"/>\n",
       "<polygon fill=\"#000000\" stroke=\"#000000\" points=\"1393.8502,-755.8195 1401.1036,-748.0969 1390.6174,-749.6107 1393.8502,-755.8195\"/>\n",
       "</g>\n",
       "<!-- 4465037776 -->\n",
       "<g id=\"node21\" class=\"node\">\n",
       "<title>4465037776</title>\n",
       "<polygon fill=\"#d3d3d3\" stroke=\"#000000\" points=\"1352.311,-874 1246.6812,-874 1246.6812,-854 1352.311,-854 1352.311,-874\"/>\n",
       "<text text-anchor=\"middle\" x=\"1299.4961\" y=\"-860.4\" font-family=\"Times,serif\" font-size=\"12.00\" fill=\"#000000\">ConvNdBackward</text>\n",
       "</g>\n",
       "<!-- 4465037776&#45;&gt;4465003152 -->\n",
       "<g id=\"edge20\" class=\"edge\">\n",
       "<title>4465037776&#45;&gt;4465003152</title>\n",
       "<path fill=\"none\" stroke=\"#000000\" d=\"M1299.4961,-853.878C1299.4961,-845.2041 1299.4961,-832.4355 1299.4961,-821.6186\"/>\n",
       "<polygon fill=\"#000000\" stroke=\"#000000\" points=\"1302.9962,-821.3062 1299.4961,-811.3062 1295.9962,-821.3062 1302.9962,-821.3062\"/>\n",
       "</g>\n",
       "<!-- 4465038840 -->\n",
       "<g id=\"node22\" class=\"node\">\n",
       "<title>4465038840</title>\n",
       "<polygon fill=\"#d3d3d3\" stroke=\"#000000\" points=\"1235.3109,-937 1111.6812,-937 1111.6812,-917 1235.3109,-917 1235.3109,-937\"/>\n",
       "<text text-anchor=\"middle\" x=\"1173.4961\" y=\"-923.4\" font-family=\"Times,serif\" font-size=\"12.00\" fill=\"#000000\">MaxPool2DBackward</text>\n",
       "</g>\n",
       "<!-- 4465038840&#45;&gt;4465037776 -->\n",
       "<g id=\"edge21\" class=\"edge\">\n",
       "<title>4465038840&#45;&gt;4465037776</title>\n",
       "<path fill=\"none\" stroke=\"#000000\" d=\"M1193.7402,-916.878C1214.4059,-906.5451 1246.6932,-890.4015 1270.1589,-878.6686\"/>\n",
       "<polygon fill=\"#000000\" stroke=\"#000000\" points=\"1271.9232,-881.6996 1279.3023,-874.0969 1268.7927,-875.4386 1271.9232,-881.6996\"/>\n",
       "</g>\n",
       "<!-- 4465039680 -->\n",
       "<g id=\"node23\" class=\"node\">\n",
       "<title>4465039680</title>\n",
       "<polygon fill=\"#d3d3d3\" stroke=\"#000000\" points=\"1230.2973,-1000 1116.6949,-1000 1116.6949,-980 1230.2973,-980 1230.2973,-1000\"/>\n",
       "<text text-anchor=\"middle\" x=\"1173.4961\" y=\"-986.4\" font-family=\"Times,serif\" font-size=\"12.00\" fill=\"#000000\">ThresholdBackward</text>\n",
       "</g>\n",
       "<!-- 4465039680&#45;&gt;4465038840 -->\n",
       "<g id=\"edge22\" class=\"edge\">\n",
       "<title>4465039680&#45;&gt;4465038840</title>\n",
       "<path fill=\"none\" stroke=\"#000000\" d=\"M1173.4961,-979.878C1173.4961,-971.2041 1173.4961,-958.4355 1173.4961,-947.6186\"/>\n",
       "<polygon fill=\"#000000\" stroke=\"#000000\" points=\"1176.9962,-947.3062 1173.4961,-937.3062 1169.9962,-947.3062 1176.9962,-947.3062\"/>\n",
       "</g>\n",
       "<!-- 4465040128 -->\n",
       "<g id=\"node24\" class=\"node\">\n",
       "<title>4465040128</title>\n",
       "<polygon fill=\"#d3d3d3\" stroke=\"#000000\" points=\"1226.311,-1056 1120.6812,-1056 1120.6812,-1036 1226.311,-1036 1226.311,-1056\"/>\n",
       "<text text-anchor=\"middle\" x=\"1173.4961\" y=\"-1042.4\" font-family=\"Times,serif\" font-size=\"12.00\" fill=\"#000000\">ConvNdBackward</text>\n",
       "</g>\n",
       "<!-- 4465040128&#45;&gt;4465039680 -->\n",
       "<g id=\"edge23\" class=\"edge\">\n",
       "<title>4465040128&#45;&gt;4465039680</title>\n",
       "<path fill=\"none\" stroke=\"#000000\" d=\"M1173.4961,-1035.9883C1173.4961,-1028.9098 1173.4961,-1019.1714 1173.4961,-1010.4779\"/>\n",
       "<polygon fill=\"#000000\" stroke=\"#000000\" points=\"1176.9962,-1010.3038 1173.4961,-1000.3039 1169.9962,-1010.3039 1176.9962,-1010.3038\"/>\n",
       "</g>\n",
       "<!-- 4465040576 -->\n",
       "<g id=\"node25\" class=\"node\">\n",
       "<title>4465040576</title>\n",
       "<polygon fill=\"#d3d3d3\" stroke=\"#000000\" points=\"1109.2973,-1119 995.6949,-1119 995.6949,-1099 1109.2973,-1099 1109.2973,-1119\"/>\n",
       "<text text-anchor=\"middle\" x=\"1052.4961\" y=\"-1105.4\" font-family=\"Times,serif\" font-size=\"12.00\" fill=\"#000000\">ThresholdBackward</text>\n",
       "</g>\n",
       "<!-- 4465040576&#45;&gt;4465040128 -->\n",
       "<g id=\"edge24\" class=\"edge\">\n",
       "<title>4465040576&#45;&gt;4465040128</title>\n",
       "<path fill=\"none\" stroke=\"#000000\" d=\"M1071.9368,-1098.878C1091.6943,-1088.591 1122.5131,-1072.5448 1145.0221,-1060.8253\"/>\n",
       "<polygon fill=\"#000000\" stroke=\"#000000\" points=\"1146.8502,-1063.8195 1154.1036,-1056.0969 1143.6174,-1057.6107 1146.8502,-1063.8195\"/>\n",
       "</g>\n",
       "<!-- 4465471616 -->\n",
       "<g id=\"node26\" class=\"node\">\n",
       "<title>4465471616</title>\n",
       "<polygon fill=\"#d3d3d3\" stroke=\"#000000\" points=\"1105.311,-1182 999.6812,-1182 999.6812,-1162 1105.311,-1162 1105.311,-1182\"/>\n",
       "<text text-anchor=\"middle\" x=\"1052.4961\" y=\"-1168.4\" font-family=\"Times,serif\" font-size=\"12.00\" fill=\"#000000\">ConvNdBackward</text>\n",
       "</g>\n",
       "<!-- 4465471616&#45;&gt;4465040576 -->\n",
       "<g id=\"edge25\" class=\"edge\">\n",
       "<title>4465471616&#45;&gt;4465040576</title>\n",
       "<path fill=\"none\" stroke=\"#000000\" d=\"M1052.4961,-1161.878C1052.4961,-1153.2041 1052.4961,-1140.4355 1052.4961,-1129.6186\"/>\n",
       "<polygon fill=\"#000000\" stroke=\"#000000\" points=\"1055.9962,-1129.3062 1052.4961,-1119.3062 1048.9962,-1129.3062 1055.9962,-1129.3062\"/>\n",
       "</g>\n",
       "<!-- 4947059096 -->\n",
       "<g id=\"node27\" class=\"node\">\n",
       "<title>4947059096</title>\n",
       "<polygon fill=\"#d3d3d3\" stroke=\"#000000\" points=\"988.2973,-1245 874.6949,-1245 874.6949,-1225 988.2973,-1225 988.2973,-1245\"/>\n",
       "<text text-anchor=\"middle\" x=\"931.4961\" y=\"-1231.4\" font-family=\"Times,serif\" font-size=\"12.00\" fill=\"#000000\">ThresholdBackward</text>\n",
       "</g>\n",
       "<!-- 4947059096&#45;&gt;4465471616 -->\n",
       "<g id=\"edge26\" class=\"edge\">\n",
       "<title>4947059096&#45;&gt;4465471616</title>\n",
       "<path fill=\"none\" stroke=\"#000000\" d=\"M950.9368,-1224.878C970.6943,-1214.591 1001.5131,-1198.5448 1024.0221,-1186.8253\"/>\n",
       "<polygon fill=\"#000000\" stroke=\"#000000\" points=\"1025.8502,-1189.8195 1033.1036,-1182.0969 1022.6174,-1183.6107 1025.8502,-1189.8195\"/>\n",
       "</g>\n",
       "<!-- 4465503144 -->\n",
       "<g id=\"node28\" class=\"node\">\n",
       "<title>4465503144</title>\n",
       "<polygon fill=\"#d3d3d3\" stroke=\"#000000\" points=\"984.311,-1308 878.6812,-1308 878.6812,-1288 984.311,-1288 984.311,-1308\"/>\n",
       "<text text-anchor=\"middle\" x=\"931.4961\" y=\"-1294.4\" font-family=\"Times,serif\" font-size=\"12.00\" fill=\"#000000\">ConvNdBackward</text>\n",
       "</g>\n",
       "<!-- 4465503144&#45;&gt;4947059096 -->\n",
       "<g id=\"edge27\" class=\"edge\">\n",
       "<title>4465503144&#45;&gt;4947059096</title>\n",
       "<path fill=\"none\" stroke=\"#000000\" d=\"M931.4961,-1287.878C931.4961,-1279.2041 931.4961,-1266.4355 931.4961,-1255.6186\"/>\n",
       "<polygon fill=\"#000000\" stroke=\"#000000\" points=\"934.9962,-1255.3062 931.4961,-1245.3062 927.9962,-1255.3062 934.9962,-1255.3062\"/>\n",
       "</g>\n",
       "<!-- 4465503984 -->\n",
       "<g id=\"node29\" class=\"node\">\n",
       "<title>4465503984</title>\n",
       "<polygon fill=\"#d3d3d3\" stroke=\"#000000\" points=\"867.3109,-1371 743.6812,-1371 743.6812,-1351 867.3109,-1351 867.3109,-1371\"/>\n",
       "<text text-anchor=\"middle\" x=\"805.4961\" y=\"-1357.4\" font-family=\"Times,serif\" font-size=\"12.00\" fill=\"#000000\">MaxPool2DBackward</text>\n",
       "</g>\n",
       "<!-- 4465503984&#45;&gt;4465503144 -->\n",
       "<g id=\"edge28\" class=\"edge\">\n",
       "<title>4465503984&#45;&gt;4465503144</title>\n",
       "<path fill=\"none\" stroke=\"#000000\" d=\"M825.7402,-1350.878C846.4059,-1340.5451 878.6932,-1324.4015 902.1589,-1312.6686\"/>\n",
       "<polygon fill=\"#000000\" stroke=\"#000000\" points=\"903.9232,-1315.6996 911.3023,-1308.0969 900.7927,-1309.4386 903.9232,-1315.6996\"/>\n",
       "</g>\n",
       "<!-- 4465070320 -->\n",
       "<g id=\"node30\" class=\"node\">\n",
       "<title>4465070320</title>\n",
       "<polygon fill=\"#d3d3d3\" stroke=\"#000000\" points=\"862.2973,-1434 748.6949,-1434 748.6949,-1414 862.2973,-1414 862.2973,-1434\"/>\n",
       "<text text-anchor=\"middle\" x=\"805.4961\" y=\"-1420.4\" font-family=\"Times,serif\" font-size=\"12.00\" fill=\"#000000\">ThresholdBackward</text>\n",
       "</g>\n",
       "<!-- 4465070320&#45;&gt;4465503984 -->\n",
       "<g id=\"edge29\" class=\"edge\">\n",
       "<title>4465070320&#45;&gt;4465503984</title>\n",
       "<path fill=\"none\" stroke=\"#000000\" d=\"M805.4961,-1413.878C805.4961,-1405.2041 805.4961,-1392.4355 805.4961,-1381.6186\"/>\n",
       "<polygon fill=\"#000000\" stroke=\"#000000\" points=\"808.9962,-1381.3062 805.4961,-1371.3062 801.9962,-1381.3062 808.9962,-1381.3062\"/>\n",
       "</g>\n",
       "<!-- 4465070544 -->\n",
       "<g id=\"node31\" class=\"node\">\n",
       "<title>4465070544</title>\n",
       "<polygon fill=\"#d3d3d3\" stroke=\"#000000\" points=\"858.311,-1490 752.6812,-1490 752.6812,-1470 858.311,-1470 858.311,-1490\"/>\n",
       "<text text-anchor=\"middle\" x=\"805.4961\" y=\"-1476.4\" font-family=\"Times,serif\" font-size=\"12.00\" fill=\"#000000\">ConvNdBackward</text>\n",
       "</g>\n",
       "<!-- 4465070544&#45;&gt;4465070320 -->\n",
       "<g id=\"edge30\" class=\"edge\">\n",
       "<title>4465070544&#45;&gt;4465070320</title>\n",
       "<path fill=\"none\" stroke=\"#000000\" d=\"M805.4961,-1469.9883C805.4961,-1462.9098 805.4961,-1453.1714 805.4961,-1444.4779\"/>\n",
       "<polygon fill=\"#000000\" stroke=\"#000000\" points=\"808.9962,-1444.3038 805.4961,-1434.3039 801.9962,-1444.3039 808.9962,-1444.3038\"/>\n",
       "</g>\n",
       "<!-- 4465070768 -->\n",
       "<g id=\"node32\" class=\"node\">\n",
       "<title>4465070768</title>\n",
       "<polygon fill=\"#d3d3d3\" stroke=\"#000000\" points=\"741.2973,-1553 627.6949,-1553 627.6949,-1533 741.2973,-1533 741.2973,-1553\"/>\n",
       "<text text-anchor=\"middle\" x=\"684.4961\" y=\"-1539.4\" font-family=\"Times,serif\" font-size=\"12.00\" fill=\"#000000\">ThresholdBackward</text>\n",
       "</g>\n",
       "<!-- 4465070768&#45;&gt;4465070544 -->\n",
       "<g id=\"edge31\" class=\"edge\">\n",
       "<title>4465070768&#45;&gt;4465070544</title>\n",
       "<path fill=\"none\" stroke=\"#000000\" d=\"M703.9368,-1532.878C723.6943,-1522.591 754.5131,-1506.5448 777.0221,-1494.8253\"/>\n",
       "<polygon fill=\"#000000\" stroke=\"#000000\" points=\"778.8502,-1497.8195 786.1036,-1490.0969 775.6174,-1491.6107 778.8502,-1497.8195\"/>\n",
       "</g>\n",
       "<!-- 4465071552 -->\n",
       "<g id=\"node33\" class=\"node\">\n",
       "<title>4465071552</title>\n",
       "<polygon fill=\"#d3d3d3\" stroke=\"#000000\" points=\"737.311,-1616 631.6812,-1616 631.6812,-1596 737.311,-1596 737.311,-1616\"/>\n",
       "<text text-anchor=\"middle\" x=\"684.4961\" y=\"-1602.4\" font-family=\"Times,serif\" font-size=\"12.00\" fill=\"#000000\">ConvNdBackward</text>\n",
       "</g>\n",
       "<!-- 4465071552&#45;&gt;4465070768 -->\n",
       "<g id=\"edge32\" class=\"edge\">\n",
       "<title>4465071552&#45;&gt;4465070768</title>\n",
       "<path fill=\"none\" stroke=\"#000000\" d=\"M684.4961,-1595.878C684.4961,-1587.2041 684.4961,-1574.4355 684.4961,-1563.6186\"/>\n",
       "<polygon fill=\"#000000\" stroke=\"#000000\" points=\"687.9962,-1563.3062 684.4961,-1553.3062 680.9962,-1563.3062 687.9962,-1563.3062\"/>\n",
       "</g>\n",
       "<!-- 4465072000 -->\n",
       "<g id=\"node34\" class=\"node\">\n",
       "<title>4465072000</title>\n",
       "<polygon fill=\"#d3d3d3\" stroke=\"#000000\" points=\"620.2973,-1679 506.6949,-1679 506.6949,-1659 620.2973,-1659 620.2973,-1679\"/>\n",
       "<text text-anchor=\"middle\" x=\"563.4961\" y=\"-1665.4\" font-family=\"Times,serif\" font-size=\"12.00\" fill=\"#000000\">ThresholdBackward</text>\n",
       "</g>\n",
       "<!-- 4465072000&#45;&gt;4465071552 -->\n",
       "<g id=\"edge33\" class=\"edge\">\n",
       "<title>4465072000&#45;&gt;4465071552</title>\n",
       "<path fill=\"none\" stroke=\"#000000\" d=\"M582.9368,-1658.878C602.6943,-1648.591 633.5131,-1632.5448 656.0221,-1620.8253\"/>\n",
       "<polygon fill=\"#000000\" stroke=\"#000000\" points=\"657.8502,-1623.8195 665.1036,-1616.0969 654.6174,-1617.6107 657.8502,-1623.8195\"/>\n",
       "</g>\n",
       "<!-- 4465072896 -->\n",
       "<g id=\"node35\" class=\"node\">\n",
       "<title>4465072896</title>\n",
       "<polygon fill=\"#d3d3d3\" stroke=\"#000000\" points=\"616.311,-1742 510.6812,-1742 510.6812,-1722 616.311,-1722 616.311,-1742\"/>\n",
       "<text text-anchor=\"middle\" x=\"563.4961\" y=\"-1728.4\" font-family=\"Times,serif\" font-size=\"12.00\" fill=\"#000000\">ConvNdBackward</text>\n",
       "</g>\n",
       "<!-- 4465072896&#45;&gt;4465072000 -->\n",
       "<g id=\"edge34\" class=\"edge\">\n",
       "<title>4465072896&#45;&gt;4465072000</title>\n",
       "<path fill=\"none\" stroke=\"#000000\" d=\"M563.4961,-1721.878C563.4961,-1713.2041 563.4961,-1700.4355 563.4961,-1689.6186\"/>\n",
       "<polygon fill=\"#000000\" stroke=\"#000000\" points=\"566.9962,-1689.3062 563.4961,-1679.3062 559.9962,-1689.3062 566.9962,-1689.3062\"/>\n",
       "</g>\n",
       "<!-- 4465073344 -->\n",
       "<g id=\"node36\" class=\"node\">\n",
       "<title>4465073344</title>\n",
       "<polygon fill=\"#d3d3d3\" stroke=\"#000000\" points=\"499.3109,-1805 375.6812,-1805 375.6812,-1785 499.3109,-1785 499.3109,-1805\"/>\n",
       "<text text-anchor=\"middle\" x=\"437.4961\" y=\"-1791.4\" font-family=\"Times,serif\" font-size=\"12.00\" fill=\"#000000\">MaxPool2DBackward</text>\n",
       "</g>\n",
       "<!-- 4465073344&#45;&gt;4465072896 -->\n",
       "<g id=\"edge35\" class=\"edge\">\n",
       "<title>4465073344&#45;&gt;4465072896</title>\n",
       "<path fill=\"none\" stroke=\"#000000\" d=\"M457.7402,-1784.878C478.4059,-1774.5451 510.6932,-1758.4015 534.1589,-1746.6686\"/>\n",
       "<polygon fill=\"#000000\" stroke=\"#000000\" points=\"535.9232,-1749.6996 543.3023,-1742.0969 532.7927,-1743.4386 535.9232,-1749.6996\"/>\n",
       "</g>\n",
       "<!-- 4465356928 -->\n",
       "<g id=\"node37\" class=\"node\">\n",
       "<title>4465356928</title>\n",
       "<polygon fill=\"#d3d3d3\" stroke=\"#000000\" points=\"494.2973,-1868 380.6949,-1868 380.6949,-1848 494.2973,-1848 494.2973,-1868\"/>\n",
       "<text text-anchor=\"middle\" x=\"437.4961\" y=\"-1854.4\" font-family=\"Times,serif\" font-size=\"12.00\" fill=\"#000000\">ThresholdBackward</text>\n",
       "</g>\n",
       "<!-- 4465356928&#45;&gt;4465073344 -->\n",
       "<g id=\"edge36\" class=\"edge\">\n",
       "<title>4465356928&#45;&gt;4465073344</title>\n",
       "<path fill=\"none\" stroke=\"#000000\" d=\"M437.4961,-1847.878C437.4961,-1839.2041 437.4961,-1826.4355 437.4961,-1815.6186\"/>\n",
       "<polygon fill=\"#000000\" stroke=\"#000000\" points=\"440.9962,-1815.3062 437.4961,-1805.3062 433.9962,-1815.3062 440.9962,-1815.3062\"/>\n",
       "</g>\n",
       "<!-- 4465357376 -->\n",
       "<g id=\"node38\" class=\"node\">\n",
       "<title>4465357376</title>\n",
       "<polygon fill=\"#d3d3d3\" stroke=\"#000000\" points=\"490.311,-1924 384.6812,-1924 384.6812,-1904 490.311,-1904 490.311,-1924\"/>\n",
       "<text text-anchor=\"middle\" x=\"437.4961\" y=\"-1910.4\" font-family=\"Times,serif\" font-size=\"12.00\" fill=\"#000000\">ConvNdBackward</text>\n",
       "</g>\n",
       "<!-- 4465357376&#45;&gt;4465356928 -->\n",
       "<g id=\"edge37\" class=\"edge\">\n",
       "<title>4465357376&#45;&gt;4465356928</title>\n",
       "<path fill=\"none\" stroke=\"#000000\" d=\"M437.4961,-1903.9883C437.4961,-1896.9098 437.4961,-1887.1714 437.4961,-1878.4779\"/>\n",
       "<polygon fill=\"#000000\" stroke=\"#000000\" points=\"440.9962,-1878.3038 437.4961,-1868.3039 433.9962,-1878.3039 440.9962,-1878.3038\"/>\n",
       "</g>\n",
       "<!-- 4465357824 -->\n",
       "<g id=\"node39\" class=\"node\">\n",
       "<title>4465357824</title>\n",
       "<polygon fill=\"#d3d3d3\" stroke=\"#000000\" points=\"373.2973,-1987 259.6949,-1987 259.6949,-1967 373.2973,-1967 373.2973,-1987\"/>\n",
       "<text text-anchor=\"middle\" x=\"316.4961\" y=\"-1973.4\" font-family=\"Times,serif\" font-size=\"12.00\" fill=\"#000000\">ThresholdBackward</text>\n",
       "</g>\n",
       "<!-- 4465357824&#45;&gt;4465357376 -->\n",
       "<g id=\"edge38\" class=\"edge\">\n",
       "<title>4465357824&#45;&gt;4465357376</title>\n",
       "<path fill=\"none\" stroke=\"#000000\" d=\"M335.9368,-1966.878C355.6943,-1956.591 386.5131,-1940.5448 409.0221,-1928.8253\"/>\n",
       "<polygon fill=\"#000000\" stroke=\"#000000\" points=\"410.8502,-1931.8195 418.1036,-1924.0969 407.6174,-1925.6107 410.8502,-1931.8195\"/>\n",
       "</g>\n",
       "<!-- 4465358608 -->\n",
       "<g id=\"node40\" class=\"node\">\n",
       "<title>4465358608</title>\n",
       "<polygon fill=\"#d3d3d3\" stroke=\"#000000\" points=\"369.311,-2050 263.6812,-2050 263.6812,-2030 369.311,-2030 369.311,-2050\"/>\n",
       "<text text-anchor=\"middle\" x=\"316.4961\" y=\"-2036.4\" font-family=\"Times,serif\" font-size=\"12.00\" fill=\"#000000\">ConvNdBackward</text>\n",
       "</g>\n",
       "<!-- 4465358608&#45;&gt;4465357824 -->\n",
       "<g id=\"edge39\" class=\"edge\">\n",
       "<title>4465358608&#45;&gt;4465357824</title>\n",
       "<path fill=\"none\" stroke=\"#000000\" d=\"M316.4961,-2029.878C316.4961,-2021.2041 316.4961,-2008.4355 316.4961,-1997.6186\"/>\n",
       "<polygon fill=\"#000000\" stroke=\"#000000\" points=\"319.9962,-1997.3062 316.4961,-1987.3062 312.9962,-1997.3062 319.9962,-1997.3062\"/>\n",
       "</g>\n",
       "<!-- 4465358832 -->\n",
       "<g id=\"node41\" class=\"node\">\n",
       "<title>4465358832</title>\n",
       "<polygon fill=\"#d3d3d3\" stroke=\"#000000\" points=\"255.3109,-2113 131.6812,-2113 131.6812,-2093 255.3109,-2093 255.3109,-2113\"/>\n",
       "<text text-anchor=\"middle\" x=\"193.4961\" y=\"-2099.4\" font-family=\"Times,serif\" font-size=\"12.00\" fill=\"#000000\">MaxPool2DBackward</text>\n",
       "</g>\n",
       "<!-- 4465358832&#45;&gt;4465358608 -->\n",
       "<g id=\"edge40\" class=\"edge\">\n",
       "<title>4465358832&#45;&gt;4465358608</title>\n",
       "<path fill=\"none\" stroke=\"#000000\" d=\"M213.2582,-2092.878C233.4318,-2082.5451 264.9504,-2066.4015 287.8574,-2054.6686\"/>\n",
       "<polygon fill=\"#000000\" stroke=\"#000000\" points=\"289.4782,-2057.7709 296.7831,-2050.0969 286.287,-2051.5406 289.4782,-2057.7709\"/>\n",
       "</g>\n",
       "<!-- 4465359280 -->\n",
       "<g id=\"node42\" class=\"node\">\n",
       "<title>4465359280</title>\n",
       "<polygon fill=\"#d3d3d3\" stroke=\"#000000\" points=\"250.2973,-2176 136.6949,-2176 136.6949,-2156 250.2973,-2156 250.2973,-2176\"/>\n",
       "<text text-anchor=\"middle\" x=\"193.4961\" y=\"-2162.4\" font-family=\"Times,serif\" font-size=\"12.00\" fill=\"#000000\">ThresholdBackward</text>\n",
       "</g>\n",
       "<!-- 4465359280&#45;&gt;4465358832 -->\n",
       "<g id=\"edge41\" class=\"edge\">\n",
       "<title>4465359280&#45;&gt;4465358832</title>\n",
       "<path fill=\"none\" stroke=\"#000000\" d=\"M193.4961,-2155.878C193.4961,-2147.2041 193.4961,-2134.4355 193.4961,-2123.6186\"/>\n",
       "<polygon fill=\"#000000\" stroke=\"#000000\" points=\"196.9962,-2123.3062 193.4961,-2113.3062 189.9962,-2123.3062 196.9962,-2123.3062\"/>\n",
       "</g>\n",
       "<!-- 4465359504 -->\n",
       "<g id=\"node43\" class=\"node\">\n",
       "<title>4465359504</title>\n",
       "<polygon fill=\"#d3d3d3\" stroke=\"#000000\" points=\"246.311,-2232 140.6812,-2232 140.6812,-2212 246.311,-2212 246.311,-2232\"/>\n",
       "<text text-anchor=\"middle\" x=\"193.4961\" y=\"-2218.4\" font-family=\"Times,serif\" font-size=\"12.00\" fill=\"#000000\">ConvNdBackward</text>\n",
       "</g>\n",
       "<!-- 4465359504&#45;&gt;4465359280 -->\n",
       "<g id=\"edge42\" class=\"edge\">\n",
       "<title>4465359504&#45;&gt;4465359280</title>\n",
       "<path fill=\"none\" stroke=\"#000000\" d=\"M193.4961,-2211.9883C193.4961,-2204.9098 193.4961,-2195.1714 193.4961,-2186.4779\"/>\n",
       "<polygon fill=\"#000000\" stroke=\"#000000\" points=\"196.9962,-2186.3038 193.4961,-2176.3039 189.9962,-2186.3039 196.9962,-2186.3038\"/>\n",
       "</g>\n",
       "<!-- 4465359728 -->\n",
       "<g id=\"node44\" class=\"node\">\n",
       "<title>4465359728</title>\n",
       "<polygon fill=\"#d3d3d3\" stroke=\"#000000\" points=\"135.2973,-2295 21.6949,-2295 21.6949,-2275 135.2973,-2275 135.2973,-2295\"/>\n",
       "<text text-anchor=\"middle\" x=\"78.4961\" y=\"-2281.4\" font-family=\"Times,serif\" font-size=\"12.00\" fill=\"#000000\">ThresholdBackward</text>\n",
       "</g>\n",
       "<!-- 4465359728&#45;&gt;4465359504 -->\n",
       "<g id=\"edge43\" class=\"edge\">\n",
       "<title>4465359728&#45;&gt;4465359504</title>\n",
       "<path fill=\"none\" stroke=\"#000000\" d=\"M96.9728,-2274.878C115.6667,-2264.637 144.7799,-2248.688 166.1471,-2236.9825\"/>\n",
       "<polygon fill=\"#000000\" stroke=\"#000000\" points=\"167.9766,-2239.9711 175.0652,-2232.0969 164.6134,-2233.8319 167.9766,-2239.9711\"/>\n",
       "</g>\n",
       "<!-- 4465360176 -->\n",
       "<g id=\"node45\" class=\"node\">\n",
       "<title>4465360176</title>\n",
       "<polygon fill=\"#d3d3d3\" stroke=\"#000000\" points=\"131.311,-2358 25.6812,-2358 25.6812,-2338 131.311,-2338 131.311,-2358\"/>\n",
       "<text text-anchor=\"middle\" x=\"78.4961\" y=\"-2344.4\" font-family=\"Times,serif\" font-size=\"12.00\" fill=\"#000000\">ConvNdBackward</text>\n",
       "</g>\n",
       "<!-- 4465360176&#45;&gt;4465359728 -->\n",
       "<g id=\"edge44\" class=\"edge\">\n",
       "<title>4465360176&#45;&gt;4465359728</title>\n",
       "<path fill=\"none\" stroke=\"#000000\" d=\"M78.4961,-2337.878C78.4961,-2329.2041 78.4961,-2316.4355 78.4961,-2305.6186\"/>\n",
       "<polygon fill=\"#000000\" stroke=\"#000000\" points=\"81.9962,-2305.3062 78.4961,-2295.3062 74.9962,-2305.3062 81.9962,-2305.3062\"/>\n",
       "</g>\n",
       "<!-- 4465360400 -->\n",
       "<g id=\"node46\" class=\"node\">\n",
       "<title>4465360400</title>\n",
       "<polygon fill=\"#add8e6\" stroke=\"#000000\" points=\"74.9883,-2428 .0039,-2428 .0039,-2394 74.9883,-2394 74.9883,-2428\"/>\n",
       "<text text-anchor=\"middle\" x=\"37.4961\" y=\"-2400.4\" font-family=\"Times,serif\" font-size=\"12.00\" fill=\"#000000\"> (64, 3, 3, 3)</text>\n",
       "</g>\n",
       "<!-- 4465360400&#45;&gt;4465360176 -->\n",
       "<g id=\"edge45\" class=\"edge\">\n",
       "<title>4465360400&#45;&gt;4465360176</title>\n",
       "<path fill=\"none\" stroke=\"#000000\" d=\"M48.6995,-2393.785C54.132,-2385.4375 60.6695,-2375.3921 66.2351,-2366.8401\"/>\n",
       "<polygon fill=\"#000000\" stroke=\"#000000\" points=\"69.2735,-2368.5879 71.7946,-2358.2974 63.4065,-2364.7697 69.2735,-2368.5879\"/>\n",
       "</g>\n",
       "<!-- 4465360512 -->\n",
       "<g id=\"node47\" class=\"node\">\n",
       "<title>4465360512</title>\n",
       "<polygon fill=\"#add8e6\" stroke=\"#000000\" points=\"146.4961,-2428 92.4961,-2428 92.4961,-2394 146.4961,-2394 146.4961,-2428\"/>\n",
       "<text text-anchor=\"middle\" x=\"119.4961\" y=\"-2400.4\" font-family=\"Times,serif\" font-size=\"12.00\" fill=\"#000000\"> (64)</text>\n",
       "</g>\n",
       "<!-- 4465360512&#45;&gt;4465360176 -->\n",
       "<g id=\"edge46\" class=\"edge\">\n",
       "<title>4465360512&#45;&gt;4465360176</title>\n",
       "<path fill=\"none\" stroke=\"#000000\" d=\"M108.2927,-2393.785C102.8602,-2385.4375 96.3227,-2375.3921 90.7571,-2366.8401\"/>\n",
       "<polygon fill=\"#000000\" stroke=\"#000000\" points=\"93.5857,-2364.7697 85.1976,-2358.2974 87.7187,-2368.5879 93.5857,-2364.7697\"/>\n",
       "</g>\n",
       "<!-- 4465359840 -->\n",
       "<g id=\"node48\" class=\"node\">\n",
       "<title>4465359840</title>\n",
       "<polygon fill=\"#add8e6\" stroke=\"#000000\" points=\"233.9883,-2302 153.0039,-2302 153.0039,-2268 233.9883,-2268 233.9883,-2302\"/>\n",
       "<text text-anchor=\"middle\" x=\"193.4961\" y=\"-2274.4\" font-family=\"Times,serif\" font-size=\"12.00\" fill=\"#000000\"> (64, 64, 3, 3)</text>\n",
       "</g>\n",
       "<!-- 4465359840&#45;&gt;4465359504 -->\n",
       "<g id=\"edge47\" class=\"edge\">\n",
       "<title>4465359840&#45;&gt;4465359504</title>\n",
       "<path fill=\"none\" stroke=\"#000000\" d=\"M193.4961,-2267.785C193.4961,-2259.9703 193.4961,-2250.6675 193.4961,-2242.4951\"/>\n",
       "<polygon fill=\"#000000\" stroke=\"#000000\" points=\"196.9962,-2242.2974 193.4961,-2232.2974 189.9962,-2242.2974 196.9962,-2242.2974\"/>\n",
       "</g>\n",
       "<!-- 4465359952 -->\n",
       "<g id=\"node49\" class=\"node\">\n",
       "<title>4465359952</title>\n",
       "<polygon fill=\"#add8e6\" stroke=\"#000000\" points=\"305.4961,-2302 251.4961,-2302 251.4961,-2268 305.4961,-2268 305.4961,-2302\"/>\n",
       "<text text-anchor=\"middle\" x=\"278.4961\" y=\"-2274.4\" font-family=\"Times,serif\" font-size=\"12.00\" fill=\"#000000\"> (64)</text>\n",
       "</g>\n",
       "<!-- 4465359952&#45;&gt;4465359504 -->\n",
       "<g id=\"edge48\" class=\"edge\">\n",
       "<title>4465359952&#45;&gt;4465359504</title>\n",
       "<path fill=\"none\" stroke=\"#000000\" d=\"M255.2695,-2267.785C242.9287,-2258.6383 227.8373,-2247.4529 215.6602,-2238.4275\"/>\n",
       "<polygon fill=\"#000000\" stroke=\"#000000\" points=\"217.5074,-2235.4401 207.3894,-2232.2974 213.3392,-2241.0639 217.5074,-2235.4401\"/>\n",
       "</g>\n",
       "<!-- 4465358944 -->\n",
       "<g id=\"node50\" class=\"node\">\n",
       "<title>4465358944</title>\n",
       "<polygon fill=\"#add8e6\" stroke=\"#000000\" points=\"359.9883,-2120 273.0039,-2120 273.0039,-2086 359.9883,-2086 359.9883,-2120\"/>\n",
       "<text text-anchor=\"middle\" x=\"316.4961\" y=\"-2092.4\" font-family=\"Times,serif\" font-size=\"12.00\" fill=\"#000000\"> (128, 64, 3, 3)</text>\n",
       "</g>\n",
       "<!-- 4465358944&#45;&gt;4465358608 -->\n",
       "<g id=\"edge49\" class=\"edge\">\n",
       "<title>4465358944&#45;&gt;4465358608</title>\n",
       "<path fill=\"none\" stroke=\"#000000\" d=\"M316.4961,-2085.785C316.4961,-2077.9703 316.4961,-2068.6675 316.4961,-2060.4951\"/>\n",
       "<polygon fill=\"#000000\" stroke=\"#000000\" points=\"319.9962,-2060.2974 316.4961,-2050.2974 312.9962,-2060.2974 319.9962,-2060.2974\"/>\n",
       "</g>\n",
       "<!-- 4465359056 -->\n",
       "<g id=\"node51\" class=\"node\">\n",
       "<title>4465359056</title>\n",
       "<polygon fill=\"#add8e6\" stroke=\"#000000\" points=\"431.4961,-2120 377.4961,-2120 377.4961,-2086 431.4961,-2086 431.4961,-2120\"/>\n",
       "<text text-anchor=\"middle\" x=\"404.4961\" y=\"-2092.4\" font-family=\"Times,serif\" font-size=\"12.00\" fill=\"#000000\"> (128)</text>\n",
       "</g>\n",
       "<!-- 4465359056&#45;&gt;4465358608 -->\n",
       "<g id=\"edge50\" class=\"edge\">\n",
       "<title>4465359056&#45;&gt;4465358608</title>\n",
       "<path fill=\"none\" stroke=\"#000000\" d=\"M380.4497,-2085.785C367.4666,-2076.4903 351.543,-2065.0904 338.8329,-2055.9911\"/>\n",
       "<polygon fill=\"#000000\" stroke=\"#000000\" points=\"340.7911,-2053.0886 330.6226,-2050.1133 336.7163,-2058.7803 340.7911,-2053.0886\"/>\n",
       "</g>\n",
       "<!-- 4465358048 -->\n",
       "<g id=\"node52\" class=\"node\">\n",
       "<title>4465358048</title>\n",
       "<polygon fill=\"#add8e6\" stroke=\"#000000\" points=\"483.9883,-1994 391.0039,-1994 391.0039,-1960 483.9883,-1960 483.9883,-1994\"/>\n",
       "<text text-anchor=\"middle\" x=\"437.4961\" y=\"-1966.4\" font-family=\"Times,serif\" font-size=\"12.00\" fill=\"#000000\"> (128, 128, 3, 3)</text>\n",
       "</g>\n",
       "<!-- 4465358048&#45;&gt;4465357376 -->\n",
       "<g id=\"edge51\" class=\"edge\">\n",
       "<title>4465358048&#45;&gt;4465357376</title>\n",
       "<path fill=\"none\" stroke=\"#000000\" d=\"M437.4961,-1959.785C437.4961,-1951.9703 437.4961,-1942.6675 437.4961,-1934.4951\"/>\n",
       "<polygon fill=\"#000000\" stroke=\"#000000\" points=\"440.9962,-1934.2974 437.4961,-1924.2974 433.9962,-1934.2974 440.9962,-1934.2974\"/>\n",
       "</g>\n",
       "<!-- 4465358440 -->\n",
       "<g id=\"node53\" class=\"node\">\n",
       "<title>4465358440</title>\n",
       "<polygon fill=\"#add8e6\" stroke=\"#000000\" points=\"555.4961,-1994 501.4961,-1994 501.4961,-1960 555.4961,-1960 555.4961,-1994\"/>\n",
       "<text text-anchor=\"middle\" x=\"528.4961\" y=\"-1966.4\" font-family=\"Times,serif\" font-size=\"12.00\" fill=\"#000000\"> (128)</text>\n",
       "</g>\n",
       "<!-- 4465358440&#45;&gt;4465357376 -->\n",
       "<g id=\"edge52\" class=\"edge\">\n",
       "<title>4465358440&#45;&gt;4465357376</title>\n",
       "<path fill=\"none\" stroke=\"#000000\" d=\"M503.6299,-1959.785C490.2043,-1950.4903 473.7378,-1939.0904 460.5944,-1929.9911\"/>\n",
       "<polygon fill=\"#000000\" stroke=\"#000000\" points=\"462.3184,-1926.9278 452.1042,-1924.1133 458.3339,-1932.6831 462.3184,-1926.9278\"/>\n",
       "</g>\n",
       "<!-- 4465073568 -->\n",
       "<g id=\"node54\" class=\"node\">\n",
       "<title>4465073568</title>\n",
       "<polygon fill=\"#add8e6\" stroke=\"#000000\" points=\"609.9883,-1812 517.0039,-1812 517.0039,-1778 609.9883,-1778 609.9883,-1812\"/>\n",
       "<text text-anchor=\"middle\" x=\"563.4961\" y=\"-1784.4\" font-family=\"Times,serif\" font-size=\"12.00\" fill=\"#000000\"> (256, 128, 3, 3)</text>\n",
       "</g>\n",
       "<!-- 4465073568&#45;&gt;4465072896 -->\n",
       "<g id=\"edge53\" class=\"edge\">\n",
       "<title>4465073568&#45;&gt;4465072896</title>\n",
       "<path fill=\"none\" stroke=\"#000000\" d=\"M563.4961,-1777.785C563.4961,-1769.9703 563.4961,-1760.6675 563.4961,-1752.4951\"/>\n",
       "<polygon fill=\"#000000\" stroke=\"#000000\" points=\"566.9962,-1752.2974 563.4961,-1742.2974 559.9962,-1752.2974 566.9962,-1752.2974\"/>\n",
       "</g>\n",
       "<!-- 4465073792 -->\n",
       "<g id=\"node55\" class=\"node\">\n",
       "<title>4465073792</title>\n",
       "<polygon fill=\"#add8e6\" stroke=\"#000000\" points=\"681.4961,-1812 627.4961,-1812 627.4961,-1778 681.4961,-1778 681.4961,-1812\"/>\n",
       "<text text-anchor=\"middle\" x=\"654.4961\" y=\"-1784.4\" font-family=\"Times,serif\" font-size=\"12.00\" fill=\"#000000\"> (256)</text>\n",
       "</g>\n",
       "<!-- 4465073792&#45;&gt;4465072896 -->\n",
       "<g id=\"edge54\" class=\"edge\">\n",
       "<title>4465073792&#45;&gt;4465072896</title>\n",
       "<path fill=\"none\" stroke=\"#000000\" d=\"M629.6299,-1777.785C616.2043,-1768.4903 599.7378,-1757.0904 586.5944,-1747.9911\"/>\n",
       "<polygon fill=\"#000000\" stroke=\"#000000\" points=\"588.3184,-1744.9278 578.1042,-1742.1133 584.3339,-1750.6831 588.3184,-1744.9278\"/>\n",
       "</g>\n",
       "<!-- 4465072224 -->\n",
       "<g id=\"node56\" class=\"node\">\n",
       "<title>4465072224</title>\n",
       "<polygon fill=\"#add8e6\" stroke=\"#000000\" points=\"730.9883,-1686 638.0039,-1686 638.0039,-1652 730.9883,-1652 730.9883,-1686\"/>\n",
       "<text text-anchor=\"middle\" x=\"684.4961\" y=\"-1658.4\" font-family=\"Times,serif\" font-size=\"12.00\" fill=\"#000000\"> (256, 256, 3, 3)</text>\n",
       "</g>\n",
       "<!-- 4465072224&#45;&gt;4465071552 -->\n",
       "<g id=\"edge55\" class=\"edge\">\n",
       "<title>4465072224&#45;&gt;4465071552</title>\n",
       "<path fill=\"none\" stroke=\"#000000\" d=\"M684.4961,-1651.785C684.4961,-1643.9703 684.4961,-1634.6675 684.4961,-1626.4951\"/>\n",
       "<polygon fill=\"#000000\" stroke=\"#000000\" points=\"687.9962,-1626.2974 684.4961,-1616.2974 680.9962,-1626.2974 687.9962,-1626.2974\"/>\n",
       "</g>\n",
       "<!-- 4465072448 -->\n",
       "<g id=\"node57\" class=\"node\">\n",
       "<title>4465072448</title>\n",
       "<polygon fill=\"#add8e6\" stroke=\"#000000\" points=\"802.4961,-1686 748.4961,-1686 748.4961,-1652 802.4961,-1652 802.4961,-1686\"/>\n",
       "<text text-anchor=\"middle\" x=\"775.4961\" y=\"-1658.4\" font-family=\"Times,serif\" font-size=\"12.00\" fill=\"#000000\"> (256)</text>\n",
       "</g>\n",
       "<!-- 4465072448&#45;&gt;4465071552 -->\n",
       "<g id=\"edge56\" class=\"edge\">\n",
       "<title>4465072448&#45;&gt;4465071552</title>\n",
       "<path fill=\"none\" stroke=\"#000000\" d=\"M750.6299,-1651.785C737.2043,-1642.4903 720.7378,-1631.0904 707.5944,-1621.9911\"/>\n",
       "<polygon fill=\"#000000\" stroke=\"#000000\" points=\"709.3184,-1618.9278 699.1042,-1616.1133 705.3339,-1624.6831 709.3184,-1618.9278\"/>\n",
       "</g>\n",
       "<!-- 4465070880 -->\n",
       "<g id=\"node58\" class=\"node\">\n",
       "<title>4465070880</title>\n",
       "<polygon fill=\"#add8e6\" stroke=\"#000000\" points=\"851.9883,-1560 759.0039,-1560 759.0039,-1526 851.9883,-1526 851.9883,-1560\"/>\n",
       "<text text-anchor=\"middle\" x=\"805.4961\" y=\"-1532.4\" font-family=\"Times,serif\" font-size=\"12.00\" fill=\"#000000\"> (256, 256, 3, 3)</text>\n",
       "</g>\n",
       "<!-- 4465070880&#45;&gt;4465070544 -->\n",
       "<g id=\"edge57\" class=\"edge\">\n",
       "<title>4465070880&#45;&gt;4465070544</title>\n",
       "<path fill=\"none\" stroke=\"#000000\" d=\"M805.4961,-1525.785C805.4961,-1517.9703 805.4961,-1508.6675 805.4961,-1500.4951\"/>\n",
       "<polygon fill=\"#000000\" stroke=\"#000000\" points=\"808.9962,-1500.2974 805.4961,-1490.2974 801.9962,-1500.2974 808.9962,-1500.2974\"/>\n",
       "</g>\n",
       "<!-- 4465071104 -->\n",
       "<g id=\"node59\" class=\"node\">\n",
       "<title>4465071104</title>\n",
       "<polygon fill=\"#add8e6\" stroke=\"#000000\" points=\"923.4961,-1560 869.4961,-1560 869.4961,-1526 923.4961,-1526 923.4961,-1560\"/>\n",
       "<text text-anchor=\"middle\" x=\"896.4961\" y=\"-1532.4\" font-family=\"Times,serif\" font-size=\"12.00\" fill=\"#000000\"> (256)</text>\n",
       "</g>\n",
       "<!-- 4465071104&#45;&gt;4465070544 -->\n",
       "<g id=\"edge58\" class=\"edge\">\n",
       "<title>4465071104&#45;&gt;4465070544</title>\n",
       "<path fill=\"none\" stroke=\"#000000\" d=\"M871.6299,-1525.785C858.2043,-1516.4903 841.7378,-1505.0904 828.5944,-1495.9911\"/>\n",
       "<polygon fill=\"#000000\" stroke=\"#000000\" points=\"830.3184,-1492.9278 820.1042,-1490.1133 826.3339,-1498.6831 830.3184,-1492.9278\"/>\n",
       "</g>\n",
       "<!-- 4465504096 -->\n",
       "<g id=\"node60\" class=\"node\">\n",
       "<title>4465504096</title>\n",
       "<polygon fill=\"#add8e6\" stroke=\"#000000\" points=\"977.9883,-1378 885.0039,-1378 885.0039,-1344 977.9883,-1344 977.9883,-1378\"/>\n",
       "<text text-anchor=\"middle\" x=\"931.4961\" y=\"-1350.4\" font-family=\"Times,serif\" font-size=\"12.00\" fill=\"#000000\"> (512, 256, 3, 3)</text>\n",
       "</g>\n",
       "<!-- 4465504096&#45;&gt;4465503144 -->\n",
       "<g id=\"edge59\" class=\"edge\">\n",
       "<title>4465504096&#45;&gt;4465503144</title>\n",
       "<path fill=\"none\" stroke=\"#000000\" d=\"M931.4961,-1343.785C931.4961,-1335.9703 931.4961,-1326.6675 931.4961,-1318.4951\"/>\n",
       "<polygon fill=\"#000000\" stroke=\"#000000\" points=\"934.9962,-1318.2974 931.4961,-1308.2974 927.9962,-1318.2974 934.9962,-1318.2974\"/>\n",
       "</g>\n",
       "<!-- 4465504208 -->\n",
       "<g id=\"node61\" class=\"node\">\n",
       "<title>4465504208</title>\n",
       "<polygon fill=\"#add8e6\" stroke=\"#000000\" points=\"1049.4961,-1378 995.4961,-1378 995.4961,-1344 1049.4961,-1344 1049.4961,-1378\"/>\n",
       "<text text-anchor=\"middle\" x=\"1022.4961\" y=\"-1350.4\" font-family=\"Times,serif\" font-size=\"12.00\" fill=\"#000000\"> (512)</text>\n",
       "</g>\n",
       "<!-- 4465504208&#45;&gt;4465503144 -->\n",
       "<g id=\"edge60\" class=\"edge\">\n",
       "<title>4465504208&#45;&gt;4465503144</title>\n",
       "<path fill=\"none\" stroke=\"#000000\" d=\"M997.6299,-1343.785C984.2043,-1334.4903 967.7378,-1323.0904 954.5944,-1313.9911\"/>\n",
       "<polygon fill=\"#000000\" stroke=\"#000000\" points=\"956.3184,-1310.9278 946.1042,-1308.1133 952.3339,-1316.6831 956.3184,-1310.9278\"/>\n",
       "</g>\n",
       "<!-- 4465503256 -->\n",
       "<g id=\"node62\" class=\"node\">\n",
       "<title>4465503256</title>\n",
       "<polygon fill=\"#add8e6\" stroke=\"#000000\" points=\"1098.9883,-1252 1006.0039,-1252 1006.0039,-1218 1098.9883,-1218 1098.9883,-1252\"/>\n",
       "<text text-anchor=\"middle\" x=\"1052.4961\" y=\"-1224.4\" font-family=\"Times,serif\" font-size=\"12.00\" fill=\"#000000\"> (512, 512, 3, 3)</text>\n",
       "</g>\n",
       "<!-- 4465503256&#45;&gt;4465471616 -->\n",
       "<g id=\"edge61\" class=\"edge\">\n",
       "<title>4465503256&#45;&gt;4465471616</title>\n",
       "<path fill=\"none\" stroke=\"#000000\" d=\"M1052.4961,-1217.785C1052.4961,-1209.9703 1052.4961,-1200.6675 1052.4961,-1192.4951\"/>\n",
       "<polygon fill=\"#000000\" stroke=\"#000000\" points=\"1055.9962,-1192.2974 1052.4961,-1182.2974 1048.9962,-1192.2974 1055.9962,-1192.2974\"/>\n",
       "</g>\n",
       "<!-- 4465503312 -->\n",
       "<g id=\"node63\" class=\"node\">\n",
       "<title>4465503312</title>\n",
       "<polygon fill=\"#add8e6\" stroke=\"#000000\" points=\"1170.4961,-1252 1116.4961,-1252 1116.4961,-1218 1170.4961,-1218 1170.4961,-1252\"/>\n",
       "<text text-anchor=\"middle\" x=\"1143.4961\" y=\"-1224.4\" font-family=\"Times,serif\" font-size=\"12.00\" fill=\"#000000\"> (512)</text>\n",
       "</g>\n",
       "<!-- 4465503312&#45;&gt;4465471616 -->\n",
       "<g id=\"edge62\" class=\"edge\">\n",
       "<title>4465503312&#45;&gt;4465471616</title>\n",
       "<path fill=\"none\" stroke=\"#000000\" d=\"M1118.6299,-1217.785C1105.2043,-1208.4903 1088.7378,-1197.0904 1075.5944,-1187.9911\"/>\n",
       "<polygon fill=\"#000000\" stroke=\"#000000\" points=\"1077.3184,-1184.9278 1067.1042,-1182.1133 1073.3339,-1190.6831 1077.3184,-1184.9278\"/>\n",
       "</g>\n",
       "<!-- 4465040800 -->\n",
       "<g id=\"node64\" class=\"node\">\n",
       "<title>4465040800</title>\n",
       "<polygon fill=\"#add8e6\" stroke=\"#000000\" points=\"1219.9883,-1126 1127.0039,-1126 1127.0039,-1092 1219.9883,-1092 1219.9883,-1126\"/>\n",
       "<text text-anchor=\"middle\" x=\"1173.4961\" y=\"-1098.4\" font-family=\"Times,serif\" font-size=\"12.00\" fill=\"#000000\"> (512, 512, 3, 3)</text>\n",
       "</g>\n",
       "<!-- 4465040800&#45;&gt;4465040128 -->\n",
       "<g id=\"edge63\" class=\"edge\">\n",
       "<title>4465040800&#45;&gt;4465040128</title>\n",
       "<path fill=\"none\" stroke=\"#000000\" d=\"M1173.4961,-1091.785C1173.4961,-1083.9703 1173.4961,-1074.6675 1173.4961,-1066.4951\"/>\n",
       "<polygon fill=\"#000000\" stroke=\"#000000\" points=\"1176.9962,-1066.2974 1173.4961,-1056.2974 1169.9962,-1066.2974 1176.9962,-1066.2974\"/>\n",
       "</g>\n",
       "<!-- 4465041024 -->\n",
       "<g id=\"node65\" class=\"node\">\n",
       "<title>4465041024</title>\n",
       "<polygon fill=\"#add8e6\" stroke=\"#000000\" points=\"1291.4961,-1126 1237.4961,-1126 1237.4961,-1092 1291.4961,-1092 1291.4961,-1126\"/>\n",
       "<text text-anchor=\"middle\" x=\"1264.4961\" y=\"-1098.4\" font-family=\"Times,serif\" font-size=\"12.00\" fill=\"#000000\"> (512)</text>\n",
       "</g>\n",
       "<!-- 4465041024&#45;&gt;4465040128 -->\n",
       "<g id=\"edge64\" class=\"edge\">\n",
       "<title>4465041024&#45;&gt;4465040128</title>\n",
       "<path fill=\"none\" stroke=\"#000000\" d=\"M1239.6299,-1091.785C1226.2043,-1082.4903 1209.7378,-1071.0904 1196.5944,-1061.9911\"/>\n",
       "<polygon fill=\"#000000\" stroke=\"#000000\" points=\"1198.3184,-1058.9278 1188.1042,-1056.1133 1194.3339,-1064.6831 1198.3184,-1058.9278\"/>\n",
       "</g>\n",
       "<!-- 4465039008 -->\n",
       "<g id=\"node66\" class=\"node\">\n",
       "<title>4465039008</title>\n",
       "<polygon fill=\"#add8e6\" stroke=\"#000000\" points=\"1345.9883,-944 1253.0039,-944 1253.0039,-910 1345.9883,-910 1345.9883,-944\"/>\n",
       "<text text-anchor=\"middle\" x=\"1299.4961\" y=\"-916.4\" font-family=\"Times,serif\" font-size=\"12.00\" fill=\"#000000\"> (512, 512, 3, 3)</text>\n",
       "</g>\n",
       "<!-- 4465039008&#45;&gt;4465037776 -->\n",
       "<g id=\"edge65\" class=\"edge\">\n",
       "<title>4465039008&#45;&gt;4465037776</title>\n",
       "<path fill=\"none\" stroke=\"#000000\" d=\"M1299.4961,-909.785C1299.4961,-901.9703 1299.4961,-892.6675 1299.4961,-884.4951\"/>\n",
       "<polygon fill=\"#000000\" stroke=\"#000000\" points=\"1302.9962,-884.2974 1299.4961,-874.2974 1295.9962,-884.2974 1302.9962,-884.2974\"/>\n",
       "</g>\n",
       "<!-- 4465039232 -->\n",
       "<g id=\"node67\" class=\"node\">\n",
       "<title>4465039232</title>\n",
       "<polygon fill=\"#add8e6\" stroke=\"#000000\" points=\"1417.4961,-944 1363.4961,-944 1363.4961,-910 1417.4961,-910 1417.4961,-944\"/>\n",
       "<text text-anchor=\"middle\" x=\"1390.4961\" y=\"-916.4\" font-family=\"Times,serif\" font-size=\"12.00\" fill=\"#000000\"> (512)</text>\n",
       "</g>\n",
       "<!-- 4465039232&#45;&gt;4465037776 -->\n",
       "<g id=\"edge66\" class=\"edge\">\n",
       "<title>4465039232&#45;&gt;4465037776</title>\n",
       "<path fill=\"none\" stroke=\"#000000\" d=\"M1365.6299,-909.785C1352.2043,-900.4903 1335.7378,-889.0904 1322.5944,-879.9911\"/>\n",
       "<polygon fill=\"#000000\" stroke=\"#000000\" points=\"1324.3184,-876.9278 1314.1042,-874.1133 1320.3339,-882.6831 1324.3184,-876.9278\"/>\n",
       "</g>\n",
       "<!-- 4465003600 -->\n",
       "<g id=\"node68\" class=\"node\">\n",
       "<title>4465003600</title>\n",
       "<polygon fill=\"#add8e6\" stroke=\"#000000\" points=\"1466.9883,-818 1374.0039,-818 1374.0039,-784 1466.9883,-784 1466.9883,-818\"/>\n",
       "<text text-anchor=\"middle\" x=\"1420.4961\" y=\"-790.4\" font-family=\"Times,serif\" font-size=\"12.00\" fill=\"#000000\"> (512, 512, 3, 3)</text>\n",
       "</g>\n",
       "<!-- 4465003600&#45;&gt;4465002256 -->\n",
       "<g id=\"edge67\" class=\"edge\">\n",
       "<title>4465003600&#45;&gt;4465002256</title>\n",
       "<path fill=\"none\" stroke=\"#000000\" d=\"M1420.4961,-783.785C1420.4961,-775.9703 1420.4961,-766.6675 1420.4961,-758.4951\"/>\n",
       "<polygon fill=\"#000000\" stroke=\"#000000\" points=\"1423.9962,-758.2974 1420.4961,-748.2974 1416.9962,-758.2974 1423.9962,-758.2974\"/>\n",
       "</g>\n",
       "<!-- 4465004048 -->\n",
       "<g id=\"node69\" class=\"node\">\n",
       "<title>4465004048</title>\n",
       "<polygon fill=\"#add8e6\" stroke=\"#000000\" points=\"1538.4961,-818 1484.4961,-818 1484.4961,-784 1538.4961,-784 1538.4961,-818\"/>\n",
       "<text text-anchor=\"middle\" x=\"1511.4961\" y=\"-790.4\" font-family=\"Times,serif\" font-size=\"12.00\" fill=\"#000000\"> (512)</text>\n",
       "</g>\n",
       "<!-- 4465004048&#45;&gt;4465002256 -->\n",
       "<g id=\"edge68\" class=\"edge\">\n",
       "<title>4465004048&#45;&gt;4465002256</title>\n",
       "<path fill=\"none\" stroke=\"#000000\" d=\"M1486.6299,-783.785C1473.2043,-774.4903 1456.7378,-763.0904 1443.5944,-753.9911\"/>\n",
       "<polygon fill=\"#000000\" stroke=\"#000000\" points=\"1445.3184,-750.9278 1435.1042,-748.1133 1441.3339,-756.6831 1445.3184,-750.9278\"/>\n",
       "</g>\n",
       "<!-- 4465001360 -->\n",
       "<g id=\"node70\" class=\"node\">\n",
       "<title>4465001360</title>\n",
       "<polygon fill=\"#add8e6\" stroke=\"#000000\" points=\"1587.9883,-692 1495.0039,-692 1495.0039,-658 1587.9883,-658 1587.9883,-692\"/>\n",
       "<text text-anchor=\"middle\" x=\"1541.4961\" y=\"-664.4\" font-family=\"Times,serif\" font-size=\"12.00\" fill=\"#000000\"> (512, 512, 3, 3)</text>\n",
       "</g>\n",
       "<!-- 4465001360&#45;&gt;4465000576 -->\n",
       "<g id=\"edge69\" class=\"edge\">\n",
       "<title>4465001360&#45;&gt;4465000576</title>\n",
       "<path fill=\"none\" stroke=\"#000000\" d=\"M1541.4961,-657.785C1541.4961,-649.9703 1541.4961,-640.6675 1541.4961,-632.4951\"/>\n",
       "<polygon fill=\"#000000\" stroke=\"#000000\" points=\"1544.9962,-632.2974 1541.4961,-622.2974 1537.9962,-632.2974 1544.9962,-632.2974\"/>\n",
       "</g>\n",
       "<!-- 4465001584 -->\n",
       "<g id=\"node71\" class=\"node\">\n",
       "<title>4465001584</title>\n",
       "<polygon fill=\"#add8e6\" stroke=\"#000000\" points=\"1659.4961,-692 1605.4961,-692 1605.4961,-658 1659.4961,-658 1659.4961,-692\"/>\n",
       "<text text-anchor=\"middle\" x=\"1632.4961\" y=\"-664.4\" font-family=\"Times,serif\" font-size=\"12.00\" fill=\"#000000\"> (512)</text>\n",
       "</g>\n",
       "<!-- 4465001584&#45;&gt;4465000576 -->\n",
       "<g id=\"edge70\" class=\"edge\">\n",
       "<title>4465001584&#45;&gt;4465000576</title>\n",
       "<path fill=\"none\" stroke=\"#000000\" d=\"M1607.6299,-657.785C1594.2043,-648.4903 1577.7378,-637.0904 1564.5944,-627.9911\"/>\n",
       "<polygon fill=\"#000000\" stroke=\"#000000\" points=\"1566.3184,-624.9278 1556.1042,-622.1133 1562.3339,-630.6831 1566.3184,-624.9278\"/>\n",
       "</g>\n",
       "<!-- 4465036872 -->\n",
       "<g id=\"node72\" class=\"node\">\n",
       "<title>4465036872</title>\n",
       "<polygon fill=\"#d3d3d3\" stroke=\"#000000\" points=\"1690.4707,-440 1618.5215,-440 1618.5215,-420 1690.4707,-420 1690.4707,-440\"/>\n",
       "<text text-anchor=\"middle\" x=\"1654.4961\" y=\"-426.4\" font-family=\"Times,serif\" font-size=\"12.00\" fill=\"#000000\">TBackward</text>\n",
       "</g>\n",
       "<!-- 4465036872&#45;&gt;4465063304 -->\n",
       "<g id=\"edge71\" class=\"edge\">\n",
       "<title>4465036872&#45;&gt;4465063304</title>\n",
       "<path fill=\"none\" stroke=\"#000000\" d=\"M1635.0091,-419.9883C1618.0642,-411.2827 1593.2885,-398.5539 1574.0963,-388.6937\"/>\n",
       "<polygon fill=\"#000000\" stroke=\"#000000\" points=\"1575.6761,-385.5705 1565.1819,-384.1138 1572.4772,-391.7968 1575.6761,-385.5705\"/>\n",
       "</g>\n",
       "<!-- 4947008816 -->\n",
       "<g id=\"node73\" class=\"node\">\n",
       "<title>4947008816</title>\n",
       "<polygon fill=\"#add8e6\" stroke=\"#000000\" points=\"1707.9883,-510 1621.0039,-510 1621.0039,-476 1707.9883,-476 1707.9883,-510\"/>\n",
       "<text text-anchor=\"middle\" x=\"1664.4961\" y=\"-482.4\" font-family=\"Times,serif\" font-size=\"12.00\" fill=\"#000000\"> (4096, 25088)</text>\n",
       "</g>\n",
       "<!-- 4947008816&#45;&gt;4465036872 -->\n",
       "<g id=\"edge72\" class=\"edge\">\n",
       "<title>4947008816&#45;&gt;4465036872</title>\n",
       "<path fill=\"none\" stroke=\"#000000\" d=\"M1661.7635,-475.785C1660.509,-467.8815 1659.0129,-458.4559 1657.7051,-450.2169\"/>\n",
       "<polygon fill=\"#000000\" stroke=\"#000000\" points=\"1661.1551,-449.6251 1656.1306,-440.2974 1654.2416,-450.7225 1661.1551,-449.6251\"/>\n",
       "</g>\n",
       "<!-- 4465017912 -->\n",
       "<g id=\"node74\" class=\"node\">\n",
       "<title>4465017912</title>\n",
       "<polygon fill=\"#d3d3d3\" stroke=\"#000000\" points=\"1694.4707,-258 1622.5215,-258 1622.5215,-238 1694.4707,-238 1694.4707,-258\"/>\n",
       "<text text-anchor=\"middle\" x=\"1658.4961\" y=\"-244.4\" font-family=\"Times,serif\" font-size=\"12.00\" fill=\"#000000\">TBackward</text>\n",
       "</g>\n",
       "<!-- 4465017912&#45;&gt;4464967240 -->\n",
       "<g id=\"edge73\" class=\"edge\">\n",
       "<title>4465017912&#45;&gt;4464967240</title>\n",
       "<path fill=\"none\" stroke=\"#000000\" d=\"M1638.8303,-237.9883C1621.73,-229.2827 1596.727,-216.5539 1577.3587,-206.6937\"/>\n",
       "<polygon fill=\"#000000\" stroke=\"#000000\" points=\"1578.8621,-203.5316 1568.3625,-202.1138 1575.6862,-209.7698 1578.8621,-203.5316\"/>\n",
       "</g>\n",
       "<!-- 4465057920 -->\n",
       "<g id=\"node75\" class=\"node\">\n",
       "<title>4465057920</title>\n",
       "<polygon fill=\"#add8e6\" stroke=\"#000000\" points=\"1700.9883,-328 1620.0039,-328 1620.0039,-294 1700.9883,-294 1700.9883,-328\"/>\n",
       "<text text-anchor=\"middle\" x=\"1660.4961\" y=\"-300.4\" font-family=\"Times,serif\" font-size=\"12.00\" fill=\"#000000\"> (4096, 4096)</text>\n",
       "</g>\n",
       "<!-- 4465057920&#45;&gt;4465017912 -->\n",
       "<g id=\"edge74\" class=\"edge\">\n",
       "<title>4465057920&#45;&gt;4465017912</title>\n",
       "<path fill=\"none\" stroke=\"#000000\" d=\"M1659.9496,-293.785C1659.7015,-285.9703 1659.4062,-276.6675 1659.1467,-268.4951\"/>\n",
       "<polygon fill=\"#000000\" stroke=\"#000000\" points=\"1662.6386,-268.1813 1658.823,-258.2974 1655.6422,-268.4035 1662.6386,-268.1813\"/>\n",
       "</g>\n",
       "<!-- 4378995456 -->\n",
       "<g id=\"node76\" class=\"node\">\n",
       "<title>4378995456</title>\n",
       "<polygon fill=\"#d3d3d3\" stroke=\"#000000\" points=\"1697.4707,-76 1625.5215,-76 1625.5215,-56 1697.4707,-56 1697.4707,-76\"/>\n",
       "<text text-anchor=\"middle\" x=\"1661.4961\" y=\"-62.4\" font-family=\"Times,serif\" font-size=\"12.00\" fill=\"#000000\">TBackward</text>\n",
       "</g>\n",
       "<!-- 4378995456&#45;&gt;4378993664 -->\n",
       "<g id=\"edge75\" class=\"edge\">\n",
       "<title>4378995456&#45;&gt;4378993664</title>\n",
       "<path fill=\"none\" stroke=\"#000000\" d=\"M1641.8303,-55.9883C1624.73,-47.2827 1599.727,-34.5539 1580.3587,-24.6937\"/>\n",
       "<polygon fill=\"#000000\" stroke=\"#000000\" points=\"1581.8621,-21.5316 1571.3625,-20.1138 1578.6862,-27.7698 1581.8621,-21.5316\"/>\n",
       "</g>\n",
       "<!-- 4464966456 -->\n",
       "<g id=\"node77\" class=\"node\">\n",
       "<title>4464966456</title>\n",
       "<polygon fill=\"#add8e6\" stroke=\"#000000\" points=\"1703.9883,-146 1623.0039,-146 1623.0039,-112 1703.9883,-112 1703.9883,-146\"/>\n",
       "<text text-anchor=\"middle\" x=\"1663.4961\" y=\"-118.4\" font-family=\"Times,serif\" font-size=\"12.00\" fill=\"#000000\"> (1000, 4096)</text>\n",
       "</g>\n",
       "<!-- 4464966456&#45;&gt;4378995456 -->\n",
       "<g id=\"edge76\" class=\"edge\">\n",
       "<title>4464966456&#45;&gt;4378995456</title>\n",
       "<path fill=\"none\" stroke=\"#000000\" d=\"M1662.9496,-111.785C1662.7015,-103.9703 1662.4062,-94.6675 1662.1467,-86.4951\"/>\n",
       "<polygon fill=\"#000000\" stroke=\"#000000\" points=\"1665.6386,-86.1813 1661.823,-76.2974 1658.6422,-86.4035 1665.6386,-86.1813\"/>\n",
       "</g>\n",
       "</g>\n",
       "</svg>\n"
      ],
      "text/plain": [
       "<graphviz.dot.Digraph at 0x10a2841d0>"
      ]
     },
     "execution_count": 88,
     "metadata": {},
     "output_type": "execute_result"
    }
   ],
   "source": [
    "g = make_dot(y)\n",
    "g"
   ]
  },
  {
   "cell_type": "code",
   "execution_count": 89,
   "metadata": {},
   "outputs": [],
   "source": [
    "import numpy as np\n",
    "import six\n",
    "\n",
    "def generate_anchor_base(base_size=16, ratios=[0.5, 1, 2],\n",
    "                         anchor_scales=[8, 16, 32]):\n",
    "    \"\"\"Generate anchor base windows by enumerating aspect ratio and scales.\n",
    "\n",
    "    Generate anchors that are scaled and modified to the given aspect ratios.\n",
    "    Area of a scaled anchor is preserved when modifying to the given aspect\n",
    "    ratio.\n",
    "\n",
    "    :obj:`R = len(ratios) * len(anchor_scales)` anchors are generated by this\n",
    "    function.\n",
    "    The :obj:`i * len(anchor_scales) + j` th anchor corresponds to an anchor\n",
    "    generated by :obj:`ratios[i]` and :obj:`anchor_scales[j]`.\n",
    "\n",
    "    For example, if the scale is :math:`8` and the ratio is :math:`0.25`,\n",
    "    the width and the height of the base window will be stretched by :math:`8`.\n",
    "    For modifying the anchor to the given aspect ratio,\n",
    "    the height is halved and the width is doubled.\n",
    "\n",
    "    Args:\n",
    "        base_size (number): The width and the height of the reference window.\n",
    "        ratios (list of floats): This is ratios of width to height of\n",
    "            the anchors.\n",
    "        anchor_scales (list of numbers): This is areas of anchors.\n",
    "            Those areas will be the product of the square of an element in\n",
    "            :obj:`anchor_scales` and the original area of the reference\n",
    "            window.\n",
    "\n",
    "    Returns:\n",
    "        ~numpy.ndarray:\n",
    "        An array of shape :math:`(R, 4)`.\n",
    "        Each element is a set of coordinates of a bounding box.\n",
    "        The second axis corresponds to\n",
    "        :math:`(y_{min}, x_{min}, y_{max}, x_{max})` of a bounding box.\n",
    "\n",
    "    \"\"\"\n",
    "    py = base_size / 2.\n",
    "    px = base_size / 2.\n",
    "\n",
    "    anchor_base = np.zeros((len(ratios) * len(anchor_scales), 4),\n",
    "                           dtype=np.float32)\n",
    "    for i in six.moves.range(len(ratios)):\n",
    "        for j in six.moves.range(len(anchor_scales)):\n",
    "            h = base_size * anchor_scales[j] * np.sqrt(ratios[i])\n",
    "            w = base_size * anchor_scales[j] * np.sqrt(1. / ratios[i])\n",
    "\n",
    "            index = i * len(anchor_scales) + j\n",
    "            anchor_base[index, 0] = py - h / 2.\n",
    "            anchor_base[index, 1] = px - w / 2.\n",
    "            anchor_base[index, 2] = py + h / 2.\n",
    "            anchor_base[index, 3] = px + w / 2.\n",
    "    return anchor_base\n",
    "\n",
    "def _enumerate_shifted_anchor(anchor_base, feat_stride, height, width):\n",
    "    # Enumerate all shifted anchors:\n",
    "    #\n",
    "    # add A anchors (1, A, 4) to\n",
    "    # cell K shifts (K, 1, 4) to get\n",
    "    # shift anchors (K, A, 4)\n",
    "    # reshape to (K*A, 4) shifted anchors\n",
    "    # return (K*A, 4)\n",
    "\n",
    "    # !TODO: add support for torch.CudaTensor\n",
    "    # xp = cuda.get_array_module(anchor_base)\n",
    "    # it seems that it can't be boosed using GPU\n",
    "    import numpy as xp\n",
    "    shift_y = xp.arange(0, height * feat_stride, feat_stride)\n",
    "    shift_x = xp.arange(0, width * feat_stride, feat_stride)\n",
    "    shift_x, shift_y = xp.meshgrid(shift_x, shift_y)\n",
    "    shift = xp.stack((shift_y.ravel(), shift_x.ravel(),\n",
    "                      shift_y.ravel(), shift_x.ravel()), axis=1)\n",
    "\n",
    "    A = anchor_base.shape[0]\n",
    "    K = shift.shape[0]\n",
    "    anchor = anchor_base.reshape((1, A, 4)) +\\\n",
    "        shift.reshape((1, K, 4)).transpose((1, 0, 2))\n",
    "    anchor = anchor.reshape((K * A, 4)).astype(np.float32)\n",
    "    return anchor"
   ]
  },
  {
   "cell_type": "code",
   "execution_count": 100,
   "metadata": {},
   "outputs": [],
   "source": [
    "height, width, feat_stride = 120, 120, 16\n",
    "shift_y = np.arange(0, height * feat_stride, feat_stride)\n",
    "shift_x = np.arange(0, width * feat_stride, feat_stride)\n",
    "shift_x, shift_y = np.meshgrid(shift_x, shift_y)"
   ]
  },
  {
   "cell_type": "code",
   "execution_count": 107,
   "metadata": {},
   "outputs": [],
   "source": [
    "shift = np.stack((shift_y.ravel(), shift_x.ravel(),\n",
    "                  shift_y.ravel(), shift_x.ravel()), axis=1)"
   ]
  },
  {
   "cell_type": "code",
   "execution_count": 112,
   "metadata": {},
   "outputs": [
    {
     "data": {
      "text/plain": [
       "array([[   0,    0,    0,    0],\n",
       "       [   0,   16,    0,   16],\n",
       "       [   0,   32,    0,   32],\n",
       "       ...,\n",
       "       [1904, 1872, 1904, 1872],\n",
       "       [1904, 1888, 1904, 1888],\n",
       "       [1904, 1904, 1904, 1904]])"
      ]
     },
     "execution_count": 112,
     "metadata": {},
     "output_type": "execute_result"
    }
   ],
   "source": [
    "shift"
   ]
  },
  {
   "cell_type": "code",
   "execution_count": 113,
   "metadata": {},
   "outputs": [
    {
     "data": {
      "text/plain": [
       "14400"
      ]
     },
     "execution_count": 113,
     "metadata": {},
     "output_type": "execute_result"
    }
   ],
   "source": [
    "120 * 120"
   ]
  },
  {
   "cell_type": "code",
   "execution_count": 97,
   "metadata": {},
   "outputs": [
    {
     "data": {
      "text/plain": [
       "True"
      ]
     },
     "execution_count": 97,
     "metadata": {},
     "output_type": "execute_result"
    }
   ],
   "source": [
    "anchor_base.shape[0] * 540 * 540 == anchor.shape[0]"
   ]
  },
  {
   "cell_type": "code",
   "execution_count": 118,
   "metadata": {},
   "outputs": [
    {
     "data": {
      "text/plain": [
       "(9, 4)"
      ]
     },
     "execution_count": 118,
     "metadata": {},
     "output_type": "execute_result"
    }
   ],
   "source": [
    "anchor_base.shape"
   ]
  },
  {
   "cell_type": "code",
   "execution_count": 1,
   "metadata": {},
   "outputs": [],
   "source": [
    "import cv2\n",
    "\n",
    "from faster_rcnn.pytorch.config import opt\n",
    "from faster_rcnn.data.dataset import (\n",
    "    Dataset, TestDataset,\n",
    "    inverse_normalize\n",
    ")"
   ]
  },
  {
   "cell_type": "code",
   "execution_count": 2,
   "metadata": {},
   "outputs": [
    {
     "data": {
      "text/plain": [
       "{'caffe_pretrain': False,\n",
       " 'caffe_pretrain_path': '/Users/wubai.zhou/Uber/kaggle/data/faster_rcnn/checkpoints/vgg16-caffe.pth',\n",
       " 'data': 'voc',\n",
       " 'debug_file': '/tmp/debugf',\n",
       " 'env': 'faster-rcnn',\n",
       " 'epoch': 14,\n",
       " 'load_path': None,\n",
       " 'lr': 0.001,\n",
       " 'lr_decay': 0.1,\n",
       " 'max_size': 1000,\n",
       " 'min_size': 600,\n",
       " 'num_workers': 8,\n",
       " 'plot_every': 40,\n",
       " 'port': 8097,\n",
       " 'pretrained_model': 'vgg16',\n",
       " 'roi_sigma': 1.0,\n",
       " 'rpn_sigma': 3.0,\n",
       " 'test_num': 10000,\n",
       " 'test_num_workers': 8,\n",
       " 'use_adam': False,\n",
       " 'use_chainer': False,\n",
       " 'use_drop': False,\n",
       " 'voc_data_dir': '/Users/wubai.zhou/Uber/kaggle/data/faster_rcnn/VOCdevkit/VOC2007/',\n",
       " 'weight_decay': 0.0005}"
      ]
     },
     "execution_count": 2,
     "metadata": {},
     "output_type": "execute_result"
    }
   ],
   "source": [
    "opt._state_dict()"
   ]
  },
  {
   "cell_type": "code",
   "execution_count": 3,
   "metadata": {},
   "outputs": [],
   "source": [
    "dataset = Dataset(opt)"
   ]
  },
  {
   "cell_type": "code",
   "execution_count": null,
   "metadata": {},
   "outputs": [],
   "source": [
    "import ipdb\n",
    "result = ipdb.runcall(dataset.__getitem__, 0)"
   ]
  },
  {
   "cell_type": "code",
   "execution_count": 14,
   "metadata": {},
   "outputs": [],
   "source": [
    "img, bbox, label, scale = dataset[0]"
   ]
  },
  {
   "cell_type": "code",
   "execution_count": 5,
   "metadata": {},
   "outputs": [
    {
     "data": {
      "text/plain": [
       "1.6"
      ]
     },
     "execution_count": 5,
     "metadata": {},
     "output_type": "execute_result"
    }
   ],
   "source": [
    "scale"
   ]
  },
  {
   "cell_type": "code",
   "execution_count": 7,
   "metadata": {},
   "outputs": [],
   "source": [
    "def test(x):\n",
    "    y = x + 5\n",
    "    return y"
   ]
  },
  {
   "cell_type": "raw",
   "metadata": {},
   "source": [
    "result"
   ]
  },
  {
   "cell_type": "code",
   "execution_count": 25,
   "metadata": {},
   "outputs": [],
   "source": [
    "import torch\n",
    "from torch.utils.model_zoo import load_url\n",
    "\n",
    "sd = load_url(\"https://download.pytorch.org/models/vgg16-397923af.pth\")"
   ]
  },
  {
   "cell_type": "code",
   "execution_count": 27,
   "metadata": {},
   "outputs": [
    {
     "data": {
      "text/plain": [
       "odict_keys(['features.0.weight', 'features.0.bias', 'features.2.weight', 'features.2.bias', 'features.5.weight', 'features.5.bias', 'features.7.weight', 'features.7.bias', 'features.10.weight', 'features.10.bias', 'features.12.weight', 'features.12.bias', 'features.14.weight', 'features.14.bias', 'features.17.weight', 'features.17.bias', 'features.19.weight', 'features.19.bias', 'features.21.weight', 'features.21.bias', 'features.24.weight', 'features.24.bias', 'features.26.weight', 'features.26.bias', 'features.28.weight', 'features.28.bias', 'classifier.0.weight', 'classifier.0.bias', 'classifier.3.weight', 'classifier.3.bias', 'classifier.6.weight', 'classifier.6.bias'])"
      ]
     },
     "execution_count": 27,
     "metadata": {},
     "output_type": "execute_result"
    }
   ],
   "source": [
    "sd.keys()"
   ]
  },
  {
   "cell_type": "code",
   "execution_count": 28,
   "metadata": {},
   "outputs": [],
   "source": [
    "import weakref\n",
    "import gc"
   ]
  },
  {
   "cell_type": "code",
   "execution_count": 58,
   "metadata": {},
   "outputs": [],
   "source": [
    "class MyObject(object):\n",
    "    def my_method(self):\n",
    "        print('my_method was called!')\n",
    "\n",
    "obj = MyObject()"
   ]
  },
  {
   "cell_type": "code",
   "execution_count": 60,
   "metadata": {},
   "outputs": [],
   "source": [
    "r = weakref.ref(obj)"
   ]
  },
  {
   "cell_type": "code",
   "execution_count": 63,
   "metadata": {},
   "outputs": [
    {
     "data": {
      "text/plain": [
       "['__call__',\n",
       " '__callback__',\n",
       " '__class__',\n",
       " '__delattr__',\n",
       " '__dir__',\n",
       " '__doc__',\n",
       " '__eq__',\n",
       " '__format__',\n",
       " '__ge__',\n",
       " '__getattribute__',\n",
       " '__gt__',\n",
       " '__hash__',\n",
       " '__init__',\n",
       " '__init_subclass__',\n",
       " '__le__',\n",
       " '__lt__',\n",
       " '__ne__',\n",
       " '__new__',\n",
       " '__reduce__',\n",
       " '__reduce_ex__',\n",
       " '__repr__',\n",
       " '__setattr__',\n",
       " '__sizeof__',\n",
       " '__str__',\n",
       " '__subclasshook__']"
      ]
     },
     "execution_count": 63,
     "metadata": {},
     "output_type": "execute_result"
    }
   ],
   "source": [
    "dir(r)"
   ]
  },
  {
   "cell_type": "code",
   "execution_count": 64,
   "metadata": {},
   "outputs": [],
   "source": [
    "gc.collect()\n",
    "assert r() is obj"
   ]
  },
  {
   "cell_type": "code",
   "execution_count": 65,
   "metadata": {},
   "outputs": [],
   "source": [
    "obj = 1"
   ]
  },
  {
   "cell_type": "code",
   "execution_count": 67,
   "metadata": {},
   "outputs": [
    {
     "data": {
      "text/plain": [
       "<__main__.MyObject at 0x122ae8780>"
      ]
     },
     "execution_count": 67,
     "metadata": {},
     "output_type": "execute_result"
    }
   ],
   "source": [
    "gc.collect()\n",
    "r()"
   ]
  },
  {
   "cell_type": "code",
   "execution_count": 70,
   "metadata": {},
   "outputs": [],
   "source": [
    "a = dict()"
   ]
  },
  {
   "cell_type": "code",
   "execution_count": 76,
   "metadata": {},
   "outputs": [],
   "source": [
    "a = list\n",
    "r = weakref.ref(a)"
   ]
  },
  {
   "cell_type": "code",
   "execution_count": 82,
   "metadata": {},
   "outputs": [],
   "source": [
    "from collections import OrderedDict"
   ]
  },
  {
   "cell_type": "code",
   "execution_count": 83,
   "metadata": {},
   "outputs": [],
   "source": [
    "a = OrderedDict()\n",
    "hook = weakref.ref(a)"
   ]
  },
  {
   "cell_type": "code",
   "execution_count": 84,
   "metadata": {},
   "outputs": [
    {
     "data": {
      "text/plain": [
       "<weakref at 0x11cdfdf48; to 'collections.OrderedDict' at 0x122aa7510>"
      ]
     },
     "execution_count": 84,
     "metadata": {},
     "output_type": "execute_result"
    }
   ],
   "source": [
    "hook"
   ]
  },
  {
   "cell_type": "code",
   "execution_count": 89,
   "metadata": {},
   "outputs": [
    {
     "name": "stdout",
     "output_type": "stream",
     "text": [
      "I'm being pickled\n",
      "I'm being unpickled with these values: {'val': 4}\n"
     ]
    },
    {
     "data": {
      "text/plain": [
       "12"
      ]
     },
     "execution_count": 89,
     "metadata": {},
     "output_type": "execute_result"
    }
   ],
   "source": [
    "class Foo(object):\n",
    "  def __init__(self, val=2):\n",
    "     self.val = val\n",
    "  def __getstate__(self):\n",
    "     print(\"I'm being pickled\")\n",
    "     self.val *= 2\n",
    "     return self.__dict__\n",
    "  def __setstate__(self, d):\n",
    "     print(\"I'm being unpickled with these values:\", d)\n",
    "     self.__dict__ = d\n",
    "     self.val *= 3\n",
    "\n",
    "import pickle\n",
    "f = Foo()\n",
    "f_string = pickle.dumps(f)\n",
    "f_new = pickle.loads(f_string)\n",
    "f_new.val"
   ]
  },
  {
   "cell_type": "code",
   "execution_count": 91,
   "metadata": {},
   "outputs": [
    {
     "data": {
      "text/plain": [
       "{'val': 4}"
      ]
     },
     "execution_count": 91,
     "metadata": {},
     "output_type": "execute_result"
    }
   ],
   "source": [
    "f.__dict__"
   ]
  },
  {
   "cell_type": "code",
   "execution_count": 1,
   "metadata": {},
   "outputs": [],
   "source": [
    "import torch\n",
    "from torch import nn\n",
    "from torch.autograd import Variable"
   ]
  },
  {
   "cell_type": "code",
   "execution_count": 2,
   "metadata": {},
   "outputs": [],
   "source": [
    "model = nn.Sequential()\n",
    "model.add_module('W0', nn.Linear(8, 16))\n",
    "model.add_module('tanh', nn.Tanh())\n",
    "model.add_module('W1', nn.Linear(16, 1))\n",
    "\n",
    "x = Variable(torch.randn(1,8))\n",
    "y = model(x)"
   ]
  },
  {
   "cell_type": "code",
   "execution_count": 9,
   "metadata": {},
   "outputs": [
    {
     "data": {
      "image/svg+xml": [
       "<?xml version=\"1.0\" encoding=\"UTF-8\" standalone=\"no\"?>\n",
       "<!DOCTYPE svg PUBLIC \"-//W3C//DTD SVG 1.1//EN\"\n",
       " \"http://www.w3.org/Graphics/SVG/1.1/DTD/svg11.dtd\">\n",
       "<!-- Generated by graphviz version 2.40.1 (20161225.0304)\n",
       " -->\n",
       "<!-- Title: %3 Pages: 1 -->\n",
       "<svg width=\"312pt\" height=\"280pt\"\n",
       " viewBox=\"0.00 0.00 311.64 280.00\" xmlns=\"http://www.w3.org/2000/svg\" xmlns:xlink=\"http://www.w3.org/1999/xlink\">\n",
       "<g id=\"graph0\" class=\"graph\" transform=\"scale(1 1) rotate(0) translate(4 276)\">\n",
       "<title>%3</title>\n",
       "<polygon fill=\"#ffffff\" stroke=\"transparent\" points=\"-4,4 -4,-276 307.6377,-276 307.6377,4 -4,4\"/>\n",
       "<!-- 4554056928 -->\n",
       "<g id=\"node1\" class=\"node\">\n",
       "<title>4554056928</title>\n",
       "<polygon fill=\"#d3d3d3\" stroke=\"#000000\" points=\"218.6289,-20 114.6719,-20 114.6719,0 218.6289,0 218.6289,-20\"/>\n",
       "<text text-anchor=\"middle\" x=\"166.6504\" y=\"-6.4\" font-family=\"Times,serif\" font-size=\"12.00\" fill=\"#000000\">AddmmBackward</text>\n",
       "</g>\n",
       "<!-- 4554055864 -->\n",
       "<g id=\"node2\" class=\"node\">\n",
       "<title>4554055864</title>\n",
       "<polygon fill=\"#d3d3d3\" stroke=\"#000000\" points=\"101.4516,-76 -.1508,-76 -.1508,-56 101.4516,-56 101.4516,-76\"/>\n",
       "<text text-anchor=\"middle\" x=\"50.6504\" y=\"-62.4\" font-family=\"Times,serif\" font-size=\"12.00\" fill=\"#000000\">ExpandBackward</text>\n",
       "</g>\n",
       "<!-- 4554055864&#45;&gt;4554056928 -->\n",
       "<g id=\"edge1\" class=\"edge\">\n",
       "<title>4554055864&#45;&gt;4554056928</title>\n",
       "<path fill=\"none\" stroke=\"#000000\" d=\"M71.3889,-55.9883C89.5039,-47.2431 116.0286,-34.4381 136.4917,-24.5594\"/>\n",
       "<polygon fill=\"#000000\" stroke=\"#000000\" points=\"138.2165,-27.6133 145.7004,-20.1138 135.1732,-21.3094 138.2165,-27.6133\"/>\n",
       "</g>\n",
       "<!-- 4554272896 -->\n",
       "<g id=\"node3\" class=\"node\">\n",
       "<title>4554272896</title>\n",
       "<polygon fill=\"#add8e6\" stroke=\"#000000\" points=\"77.6504,-146 23.6504,-146 23.6504,-112 77.6504,-112 77.6504,-146\"/>\n",
       "<text text-anchor=\"middle\" x=\"50.6504\" y=\"-118.4\" font-family=\"Times,serif\" font-size=\"12.00\" fill=\"#000000\"> (1)</text>\n",
       "</g>\n",
       "<!-- 4554272896&#45;&gt;4554055864 -->\n",
       "<g id=\"edge2\" class=\"edge\">\n",
       "<title>4554272896&#45;&gt;4554055864</title>\n",
       "<path fill=\"none\" stroke=\"#000000\" d=\"M50.6504,-111.785C50.6504,-103.9703 50.6504,-94.6675 50.6504,-86.4951\"/>\n",
       "<polygon fill=\"#000000\" stroke=\"#000000\" points=\"54.1505,-86.2974 50.6504,-76.2974 47.1505,-86.2974 54.1505,-86.2974\"/>\n",
       "</g>\n",
       "<!-- 4554058384 -->\n",
       "<g id=\"node4\" class=\"node\">\n",
       "<title>4554058384</title>\n",
       "<polygon fill=\"#d3d3d3\" stroke=\"#000000\" points=\"214.1144,-76 119.1864,-76 119.1864,-56 214.1144,-56 214.1144,-76\"/>\n",
       "<text text-anchor=\"middle\" x=\"166.6504\" y=\"-62.4\" font-family=\"Times,serif\" font-size=\"12.00\" fill=\"#000000\">TanhBackward0</text>\n",
       "</g>\n",
       "<!-- 4554058384&#45;&gt;4554056928 -->\n",
       "<g id=\"edge3\" class=\"edge\">\n",
       "<title>4554058384&#45;&gt;4554056928</title>\n",
       "<path fill=\"none\" stroke=\"#000000\" d=\"M166.6504,-55.9883C166.6504,-48.9098 166.6504,-39.1714 166.6504,-30.4779\"/>\n",
       "<polygon fill=\"#000000\" stroke=\"#000000\" points=\"170.1505,-30.3038 166.6504,-20.3039 163.1505,-30.3039 170.1505,-30.3038\"/>\n",
       "</g>\n",
       "<!-- 4554273456 -->\n",
       "<g id=\"node5\" class=\"node\">\n",
       "<title>4554273456</title>\n",
       "<polygon fill=\"#d3d3d3\" stroke=\"#000000\" points=\"218.6289,-139 114.6719,-139 114.6719,-119 218.6289,-119 218.6289,-139\"/>\n",
       "<text text-anchor=\"middle\" x=\"166.6504\" y=\"-125.4\" font-family=\"Times,serif\" font-size=\"12.00\" fill=\"#000000\">AddmmBackward</text>\n",
       "</g>\n",
       "<!-- 4554273456&#45;&gt;4554058384 -->\n",
       "<g id=\"edge4\" class=\"edge\">\n",
       "<title>4554273456&#45;&gt;4554058384</title>\n",
       "<path fill=\"none\" stroke=\"#000000\" d=\"M166.6504,-118.878C166.6504,-110.2041 166.6504,-97.4355 166.6504,-86.6186\"/>\n",
       "<polygon fill=\"#000000\" stroke=\"#000000\" points=\"170.1505,-86.3062 166.6504,-76.3062 163.1505,-86.3062 170.1505,-86.3062\"/>\n",
       "</g>\n",
       "<!-- 4554273624 -->\n",
       "<g id=\"node6\" class=\"node\">\n",
       "<title>4554273624</title>\n",
       "<polygon fill=\"#d3d3d3\" stroke=\"#000000\" points=\"164.4516,-202 62.8492,-202 62.8492,-182 164.4516,-182 164.4516,-202\"/>\n",
       "<text text-anchor=\"middle\" x=\"113.6504\" y=\"-188.4\" font-family=\"Times,serif\" font-size=\"12.00\" fill=\"#000000\">ExpandBackward</text>\n",
       "</g>\n",
       "<!-- 4554273624&#45;&gt;4554273456 -->\n",
       "<g id=\"edge5\" class=\"edge\">\n",
       "<title>4554273624&#45;&gt;4554273456</title>\n",
       "<path fill=\"none\" stroke=\"#000000\" d=\"M122.1658,-181.878C130.0005,-172.5649 141.8064,-158.5316 151.2874,-147.2617\"/>\n",
       "<polygon fill=\"#000000\" stroke=\"#000000\" points=\"154.2207,-149.2117 157.9801,-139.3062 148.8641,-144.7053 154.2207,-149.2117\"/>\n",
       "</g>\n",
       "<!-- 4553750288 -->\n",
       "<g id=\"node7\" class=\"node\">\n",
       "<title>4553750288</title>\n",
       "<polygon fill=\"#add8e6\" stroke=\"#000000\" points=\"140.6504,-272 86.6504,-272 86.6504,-238 140.6504,-238 140.6504,-272\"/>\n",
       "<text text-anchor=\"middle\" x=\"113.6504\" y=\"-244.4\" font-family=\"Times,serif\" font-size=\"12.00\" fill=\"#000000\"> (16)</text>\n",
       "</g>\n",
       "<!-- 4553750288&#45;&gt;4554273624 -->\n",
       "<g id=\"edge6\" class=\"edge\">\n",
       "<title>4553750288&#45;&gt;4554273624</title>\n",
       "<path fill=\"none\" stroke=\"#000000\" d=\"M113.6504,-237.785C113.6504,-229.9703 113.6504,-220.6675 113.6504,-212.4951\"/>\n",
       "<polygon fill=\"#000000\" stroke=\"#000000\" points=\"117.1505,-212.2974 113.6504,-202.2974 110.1505,-212.2974 117.1505,-212.2974\"/>\n",
       "</g>\n",
       "<!-- 4554275864 -->\n",
       "<g id=\"node8\" class=\"node\">\n",
       "<title>4554275864</title>\n",
       "<polygon fill=\"#d3d3d3\" stroke=\"#000000\" points=\"254.625,-202 182.6758,-202 182.6758,-182 254.625,-182 254.625,-202\"/>\n",
       "<text text-anchor=\"middle\" x=\"218.6504\" y=\"-188.4\" font-family=\"Times,serif\" font-size=\"12.00\" fill=\"#000000\">TBackward</text>\n",
       "</g>\n",
       "<!-- 4554275864&#45;&gt;4554273456 -->\n",
       "<g id=\"edge7\" class=\"edge\">\n",
       "<title>4554275864&#45;&gt;4554273456</title>\n",
       "<path fill=\"none\" stroke=\"#000000\" d=\"M210.2957,-181.878C202.6088,-172.5649 191.0256,-158.5316 181.7235,-147.2617\"/>\n",
       "<polygon fill=\"#000000\" stroke=\"#000000\" points=\"184.2221,-144.7905 175.1571,-139.3062 178.8235,-149.2465 184.2221,-144.7905\"/>\n",
       "</g>\n",
       "<!-- 4554321088 -->\n",
       "<g id=\"node9\" class=\"node\">\n",
       "<title>4554321088</title>\n",
       "<polygon fill=\"#add8e6\" stroke=\"#000000\" points=\"245.6504,-272 191.6504,-272 191.6504,-238 245.6504,-238 245.6504,-272\"/>\n",
       "<text text-anchor=\"middle\" x=\"218.6504\" y=\"-244.4\" font-family=\"Times,serif\" font-size=\"12.00\" fill=\"#000000\"> (16, 8)</text>\n",
       "</g>\n",
       "<!-- 4554321088&#45;&gt;4554275864 -->\n",
       "<g id=\"edge8\" class=\"edge\">\n",
       "<title>4554321088&#45;&gt;4554275864</title>\n",
       "<path fill=\"none\" stroke=\"#000000\" d=\"M218.6504,-237.785C218.6504,-229.9703 218.6504,-220.6675 218.6504,-212.4951\"/>\n",
       "<polygon fill=\"#000000\" stroke=\"#000000\" points=\"222.1505,-212.2974 218.6504,-202.2974 215.1505,-212.2974 222.1505,-212.2974\"/>\n",
       "</g>\n",
       "<!-- 4554058328 -->\n",
       "<g id=\"node10\" class=\"node\">\n",
       "<title>4554058328</title>\n",
       "<polygon fill=\"#d3d3d3\" stroke=\"#000000\" points=\"303.625,-76 231.6758,-76 231.6758,-56 303.625,-56 303.625,-76\"/>\n",
       "<text text-anchor=\"middle\" x=\"267.6504\" y=\"-62.4\" font-family=\"Times,serif\" font-size=\"12.00\" fill=\"#000000\">TBackward</text>\n",
       "</g>\n",
       "<!-- 4554058328&#45;&gt;4554056928 -->\n",
       "<g id=\"edge9\" class=\"edge\">\n",
       "<title>4554058328&#45;&gt;4554056928</title>\n",
       "<path fill=\"none\" stroke=\"#000000\" d=\"M249.5936,-55.9883C234.0352,-47.3619 211.3519,-34.785 193.6378,-24.9633\"/>\n",
       "<polygon fill=\"#000000\" stroke=\"#000000\" points=\"195.3342,-21.902 184.8914,-20.1138 191.9398,-28.0239 195.3342,-21.902\"/>\n",
       "</g>\n",
       "<!-- 4554274016 -->\n",
       "<g id=\"node11\" class=\"node\">\n",
       "<title>4554274016</title>\n",
       "<polygon fill=\"#add8e6\" stroke=\"#000000\" points=\"294.6504,-146 240.6504,-146 240.6504,-112 294.6504,-112 294.6504,-146\"/>\n",
       "<text text-anchor=\"middle\" x=\"267.6504\" y=\"-118.4\" font-family=\"Times,serif\" font-size=\"12.00\" fill=\"#000000\"> (1, 16)</text>\n",
       "</g>\n",
       "<!-- 4554274016&#45;&gt;4554058328 -->\n",
       "<g id=\"edge10\" class=\"edge\">\n",
       "<title>4554274016&#45;&gt;4554058328</title>\n",
       "<path fill=\"none\" stroke=\"#000000\" d=\"M267.6504,-111.785C267.6504,-103.9703 267.6504,-94.6675 267.6504,-86.4951\"/>\n",
       "<polygon fill=\"#000000\" stroke=\"#000000\" points=\"271.1505,-86.2974 267.6504,-76.2974 264.1505,-86.2974 271.1505,-86.2974\"/>\n",
       "</g>\n",
       "</g>\n",
       "</svg>\n"
      ],
      "text/plain": [
       "<graphviz.dot.Digraph at 0x10f716748>"
      ]
     },
     "execution_count": 9,
     "metadata": {},
     "output_type": "execute_result"
    }
   ],
   "source": [
    "make_dot(y)"
   ]
  },
  {
   "cell_type": "code",
   "execution_count": 6,
   "metadata": {},
   "outputs": [],
   "source": [
    "y.backward()"
   ]
  },
  {
   "cell_type": "code",
   "execution_count": 4,
   "metadata": {},
   "outputs": [
    {
     "data": {
      "text/plain": [
       "{'W0.bias': Parameter containing:\n",
       "  0.2678\n",
       "  0.1798\n",
       "  0.2301\n",
       " -0.0821\n",
       " -0.2501\n",
       " -0.1029\n",
       "  0.0855\n",
       "  0.1733\n",
       "  0.2618\n",
       "  0.1745\n",
       "  0.2736\n",
       "  0.1128\n",
       "  0.2810\n",
       " -0.1281\n",
       " -0.1551\n",
       " -0.0692\n",
       " [torch.FloatTensor of size 16], 'W0.weight': Parameter containing:\n",
       "  0.1902 -0.1936 -0.1187 -0.1469  0.1217  0.0616 -0.0590  0.0910\n",
       " -0.1571 -0.2228 -0.1232 -0.2715 -0.1807  0.3440 -0.0945  0.3021\n",
       " -0.1107 -0.1826  0.2723  0.2448 -0.2204 -0.0772 -0.0716 -0.2851\n",
       "  0.0081 -0.2319  0.2361  0.3480  0.0398  0.1990 -0.2567 -0.0409\n",
       " -0.3316  0.0989 -0.1815  0.0358  0.2884  0.2487  0.2513  0.2806\n",
       " -0.3082 -0.2733  0.0969 -0.0418  0.0357 -0.0235  0.1899  0.0673\n",
       "  0.0063 -0.0751 -0.3439 -0.3221  0.1926 -0.0696  0.1353  0.1836\n",
       "  0.1696  0.2086 -0.0781 -0.3000 -0.3464  0.0811  0.2424  0.1278\n",
       "  0.1424 -0.0610  0.2278  0.0012  0.1693  0.2242  0.2380 -0.2863\n",
       " -0.2520  0.0622  0.2738 -0.2215 -0.2933 -0.2538 -0.2374 -0.1091\n",
       "  0.3112 -0.2463 -0.2623 -0.2506  0.0725 -0.3141 -0.0081  0.1870\n",
       "  0.2922 -0.3469  0.0169  0.2920  0.2823 -0.0005  0.3206 -0.0576\n",
       "  0.1099  0.2929 -0.0952  0.1044 -0.1942  0.0522  0.0499 -0.1089\n",
       " -0.1158  0.3519  0.3262 -0.1769 -0.0444 -0.2116  0.3293  0.2032\n",
       " -0.1086 -0.3474  0.2613  0.0954 -0.0201  0.0828 -0.0101 -0.1962\n",
       "  0.0208  0.1448 -0.0377  0.0967 -0.0746 -0.1794 -0.2307  0.1190\n",
       " [torch.FloatTensor of size 16x8], 'W1.bias': Parameter containing:\n",
       "  0.1950\n",
       " [torch.FloatTensor of size 1], 'W1.weight': Parameter containing:\n",
       " \n",
       " Columns 0 to 9 \n",
       "  0.0059  0.2344  0.2275  0.2408  0.0330 -0.0548 -0.0055 -0.2097 -0.0157 -0.1333\n",
       " \n",
       " Columns 10 to 15 \n",
       " -0.2252  0.0759 -0.1465 -0.1194 -0.0978 -0.2458\n",
       " [torch.FloatTensor of size 1x16]}"
      ]
     },
     "execution_count": 4,
     "metadata": {},
     "output_type": "execute_result"
    }
   ],
   "source": [
    "params = dict(model.named_parameters())\n",
    "params"
   ]
  },
  {
   "cell_type": "code",
   "execution_count": 7,
   "metadata": {},
   "outputs": [
    {
     "data": {
      "text/plain": [
       "Variable containing:\n",
       "-0.0027 -0.0031 -0.0030 -0.0044 -0.0037  0.0020  0.0013  0.0016\n",
       "-0.0483 -0.0546 -0.0536 -0.0790 -0.0660  0.0355  0.0234  0.0280\n",
       "-0.1265 -0.1430 -0.1402 -0.2068 -0.1729  0.0930  0.0612  0.0734\n",
       "-0.1117 -0.1263 -0.1238 -0.1825 -0.1526  0.0821  0.0540  0.0648\n",
       "-0.0184 -0.0208 -0.0204 -0.0300 -0.0251  0.0135  0.0089  0.0107\n",
       " 0.0286  0.0324  0.0317  0.0468  0.0391 -0.0210 -0.0138 -0.0166\n",
       " 0.0023  0.0026  0.0025  0.0037  0.0031 -0.0017 -0.0011 -0.0013\n",
       " 0.0766  0.0866  0.0850  0.1253  0.1047 -0.0563 -0.0370 -0.0444\n",
       " 0.0087  0.0099  0.0097  0.0143  0.0119 -0.0064 -0.0042 -0.0051\n",
       " 0.0668  0.0755  0.0740  0.1091  0.0913 -0.0491 -0.0323 -0.0387\n",
       " 0.0968  0.1095  0.1073  0.1583  0.1323 -0.0712 -0.0468 -0.0561\n",
       "-0.0396 -0.0448 -0.0440 -0.0648 -0.0542  0.0291  0.0192  0.0230\n",
       " 0.0799  0.0903  0.0885  0.1305  0.1092 -0.0587 -0.0386 -0.0463\n",
       " 0.0633  0.0715  0.0701  0.1034  0.0865 -0.0465 -0.0306 -0.0367\n",
       " 0.0534  0.0604  0.0592  0.0873  0.0730 -0.0393 -0.0258 -0.0310\n",
       " 0.1269  0.1435  0.1407  0.2075  0.1735 -0.0933 -0.0614 -0.0736\n",
       "[torch.FloatTensor of size 16x8]"
      ]
     },
     "execution_count": 7,
     "metadata": {},
     "output_type": "execute_result"
    }
   ],
   "source": [
    "w0 = params['W0.weight']\n",
    "w0.grad"
   ]
  },
  {
   "cell_type": "code",
   "execution_count": 102,
   "metadata": {},
   "outputs": [
    {
     "data": {
      "text/plain": [
       "{4779471000: 'W0.bias',\n",
       " 4779472680: 'W0.weight',\n",
       " 4779573480: 'W1.weight',\n",
       " 4779573640: 'W1.bias'}"
      ]
     },
     "execution_count": 102,
     "metadata": {},
     "output_type": "execute_result"
    }
   ],
   "source": [
    "param_map = {id(v): k for k, v in params.items()}\n",
    "param_map"
   ]
  },
  {
   "cell_type": "code",
   "execution_count": 107,
   "metadata": {},
   "outputs": [],
   "source": [
    "from torch.autograd import Function"
   ]
  },
  {
   "cell_type": "code",
   "execution_count": 154,
   "metadata": {},
   "outputs": [
    {
     "data": {
      "text/plain": [
       "['__call__',\n",
       " '__class__',\n",
       " '__delattr__',\n",
       " '__dir__',\n",
       " '__doc__',\n",
       " '__eq__',\n",
       " '__format__',\n",
       " '__ge__',\n",
       " '__getattribute__',\n",
       " '__gt__',\n",
       " '__hash__',\n",
       " '__init__',\n",
       " '__init_subclass__',\n",
       " '__le__',\n",
       " '__lt__',\n",
       " '__ne__',\n",
       " '__new__',\n",
       " '__reduce__',\n",
       " '__reduce_ex__',\n",
       " '__repr__',\n",
       " '__setattr__',\n",
       " '__sizeof__',\n",
       " '__str__',\n",
       " '__subclasshook__',\n",
       " '_register_hook_dict',\n",
       " 'next_functions',\n",
       " 'register_hook',\n",
       " 'requires_grad']"
      ]
     },
     "execution_count": 154,
     "metadata": {},
     "output_type": "execute_result"
    }
   ],
   "source": [
    "dir(y.grad_fn)"
   ]
  },
  {
   "cell_type": "code",
   "execution_count": 165,
   "metadata": {},
   "outputs": [
    {
     "data": {
      "text/plain": [
       "True"
      ]
     },
     "execution_count": 165,
     "metadata": {},
     "output_type": "execute_result"
    }
   ],
   "source": [
    "hasattr(y, 'grad')"
   ]
  },
  {
   "cell_type": "code",
   "execution_count": 11,
   "metadata": {},
   "outputs": [
    {
     "ename": "AttributeError",
     "evalue": "'AddmmBackward' object has no attribute 'num_inputs'",
     "output_type": "error",
     "traceback": [
      "\u001b[0;31m---------------------------------------------------------------------------\u001b[0m",
      "\u001b[0;31mAttributeError\u001b[0m                            Traceback (most recent call last)",
      "\u001b[0;32m<ipython-input-11-41eac1663d1c>\u001b[0m in \u001b[0;36m<module>\u001b[0;34m()\u001b[0m\n\u001b[0;32m----> 1\u001b[0;31m \u001b[0my\u001b[0m\u001b[0;34m.\u001b[0m\u001b[0mgrad_fn\u001b[0m\u001b[0;34m.\u001b[0m\u001b[0mnum_inputs\u001b[0m\u001b[0;34m(\u001b[0m\u001b[0;34m)\u001b[0m\u001b[0;34m\u001b[0m\u001b[0m\n\u001b[0m",
      "\u001b[0;31mAttributeError\u001b[0m: 'AddmmBackward' object has no attribute 'num_inputs'"
     ]
    }
   ],
   "source": [
    "y.grad_fn.num_inputs()"
   ]
  },
  {
   "cell_type": "code",
   "execution_count": 10,
   "metadata": {},
   "outputs": [
    {
     "data": {
      "text/plain": [
       "((<ExpandBackward at 0x10f7160b8>, 0),\n",
       " (<TanhBackward0 at 0x10f716a90>, 0),\n",
       " (<TBackward at 0x10f716a58>, 0))"
      ]
     },
     "execution_count": 10,
     "metadata": {},
     "output_type": "execute_result"
    }
   ],
   "source": [
    "nexts = y.grad_fn.next_functions\n",
    "nexts"
   ]
  },
  {
   "cell_type": "code",
   "execution_count": 210,
   "metadata": {},
   "outputs": [
    {
     "ename": "AttributeError",
     "evalue": "'ExpandBackward' object has no attribute 'varible'",
     "output_type": "error",
     "traceback": [
      "\u001b[0;31m---------------------------------------------------------------------------\u001b[0m",
      "\u001b[0;31mAttributeError\u001b[0m                            Traceback (most recent call last)",
      "\u001b[0;32m<ipython-input-210-9accdd261b4d>\u001b[0m in \u001b[0;36m<module>\u001b[0;34m()\u001b[0m\n\u001b[1;32m      1\u001b[0m \u001b[0mexpand_bf\u001b[0m \u001b[0;34m=\u001b[0m \u001b[0mnexts\u001b[0m\u001b[0;34m[\u001b[0m\u001b[0;36m0\u001b[0m\u001b[0;34m]\u001b[0m\u001b[0;34m[\u001b[0m\u001b[0;36m0\u001b[0m\u001b[0;34m]\u001b[0m\u001b[0;34m\u001b[0m\u001b[0m\n\u001b[0;32m----> 2\u001b[0;31m \u001b[0mexpand_bf\u001b[0m\u001b[0;34m.\u001b[0m\u001b[0mvarible\u001b[0m\u001b[0;34m\u001b[0m\u001b[0m\n\u001b[0m",
      "\u001b[0;31mAttributeError\u001b[0m: 'ExpandBackward' object has no attribute 'varible'"
     ]
    }
   ],
   "source": [
    "expand_bf = nexts[0][0]\n",
    "expand_bf.varible"
   ]
  },
  {
   "cell_type": "code",
   "execution_count": 12,
   "metadata": {},
   "outputs": [
    {
     "data": {
      "text/plain": [
       "<AccumulateGrad at 0x10f74b080>"
      ]
     },
     "execution_count": 12,
     "metadata": {},
     "output_type": "execute_result"
    }
   ],
   "source": [
    "accGrad = nexts[0][0].next_functions[0][0]\n",
    "accGrad"
   ]
  },
  {
   "cell_type": "code",
   "execution_count": 17,
   "metadata": {},
   "outputs": [
    {
     "ename": "AttributeError",
     "evalue": "'Parameter' object has no attribute 'grad_accumulator'",
     "output_type": "error",
     "traceback": [
      "\u001b[0;31m---------------------------------------------------------------------------\u001b[0m",
      "\u001b[0;31mAttributeError\u001b[0m                            Traceback (most recent call last)",
      "\u001b[0;32m<ipython-input-17-59a472551d40>\u001b[0m in \u001b[0;36m<module>\u001b[0;34m()\u001b[0m\n\u001b[0;32m----> 1\u001b[0;31m \u001b[0maccGrad\u001b[0m\u001b[0;34m.\u001b[0m\u001b[0mvariable\u001b[0m\u001b[0;34m.\u001b[0m\u001b[0mgrad_accumulator\u001b[0m\u001b[0;34m(\u001b[0m\u001b[0;34m)\u001b[0m\u001b[0;34m\u001b[0m\u001b[0m\n\u001b[0m",
      "\u001b[0;32m/Users/wubai.zhou/Uber/kaggle/kenv/lib/python3.6/site-packages/torch/autograd/variable.py\u001b[0m in \u001b[0;36m__getattr__\u001b[0;34m(self, name)\u001b[0m\n\u001b[1;32m     65\u001b[0m         \u001b[0;32mif\u001b[0m \u001b[0mname\u001b[0m \u001b[0;32min\u001b[0m \u001b[0mself\u001b[0m\u001b[0;34m.\u001b[0m\u001b[0m_fallthrough_methods\u001b[0m\u001b[0;34m:\u001b[0m\u001b[0;34m\u001b[0m\u001b[0m\n\u001b[1;32m     66\u001b[0m             \u001b[0;32mreturn\u001b[0m \u001b[0mgetattr\u001b[0m\u001b[0;34m(\u001b[0m\u001b[0mself\u001b[0m\u001b[0;34m.\u001b[0m\u001b[0mdata\u001b[0m\u001b[0;34m,\u001b[0m \u001b[0mname\u001b[0m\u001b[0;34m)\u001b[0m\u001b[0;34m\u001b[0m\u001b[0m\n\u001b[0;32m---> 67\u001b[0;31m         \u001b[0;32mreturn\u001b[0m \u001b[0mobject\u001b[0m\u001b[0;34m.\u001b[0m\u001b[0m__getattribute__\u001b[0m\u001b[0;34m(\u001b[0m\u001b[0mself\u001b[0m\u001b[0;34m,\u001b[0m \u001b[0mname\u001b[0m\u001b[0;34m)\u001b[0m\u001b[0;34m\u001b[0m\u001b[0m\n\u001b[0m\u001b[1;32m     68\u001b[0m \u001b[0;34m\u001b[0m\u001b[0m\n\u001b[1;32m     69\u001b[0m     \u001b[0;32mdef\u001b[0m \u001b[0m__getitem__\u001b[0m\u001b[0;34m(\u001b[0m\u001b[0mself\u001b[0m\u001b[0;34m,\u001b[0m \u001b[0mkey\u001b[0m\u001b[0;34m)\u001b[0m\u001b[0;34m:\u001b[0m\u001b[0;34m\u001b[0m\u001b[0m\n",
      "\u001b[0;31mAttributeError\u001b[0m: 'Parameter' object has no attribute 'grad_accumulator'"
     ]
    }
   ],
   "source": [
    "accGrad.variable.grad_accumulator()"
   ]
  },
  {
   "cell_type": "code",
   "execution_count": 16,
   "metadata": {},
   "outputs": [
    {
     "ename": "AttributeError",
     "evalue": "'Parameter' object has no attribute 'accGrad'",
     "output_type": "error",
     "traceback": [
      "\u001b[0;31m---------------------------------------------------------------------------\u001b[0m",
      "\u001b[0;31mAttributeError\u001b[0m                            Traceback (most recent call last)",
      "\u001b[0;32m<ipython-input-16-cd2a67e203c4>\u001b[0m in \u001b[0;36m<module>\u001b[0;34m()\u001b[0m\n\u001b[0;32m----> 1\u001b[0;31m \u001b[0maccGrad\u001b[0m\u001b[0;34m.\u001b[0m\u001b[0mvariable\u001b[0m\u001b[0;34m.\u001b[0m\u001b[0maccGrad\u001b[0m\u001b[0;34m\u001b[0m\u001b[0m\n\u001b[0m",
      "\u001b[0;32m/Users/wubai.zhou/Uber/kaggle/kenv/lib/python3.6/site-packages/torch/autograd/variable.py\u001b[0m in \u001b[0;36m__getattr__\u001b[0;34m(self, name)\u001b[0m\n\u001b[1;32m     65\u001b[0m         \u001b[0;32mif\u001b[0m \u001b[0mname\u001b[0m \u001b[0;32min\u001b[0m \u001b[0mself\u001b[0m\u001b[0;34m.\u001b[0m\u001b[0m_fallthrough_methods\u001b[0m\u001b[0;34m:\u001b[0m\u001b[0;34m\u001b[0m\u001b[0m\n\u001b[1;32m     66\u001b[0m             \u001b[0;32mreturn\u001b[0m \u001b[0mgetattr\u001b[0m\u001b[0;34m(\u001b[0m\u001b[0mself\u001b[0m\u001b[0;34m.\u001b[0m\u001b[0mdata\u001b[0m\u001b[0;34m,\u001b[0m \u001b[0mname\u001b[0m\u001b[0;34m)\u001b[0m\u001b[0;34m\u001b[0m\u001b[0m\n\u001b[0;32m---> 67\u001b[0;31m         \u001b[0;32mreturn\u001b[0m \u001b[0mobject\u001b[0m\u001b[0;34m.\u001b[0m\u001b[0m__getattribute__\u001b[0m\u001b[0;34m(\u001b[0m\u001b[0mself\u001b[0m\u001b[0;34m,\u001b[0m \u001b[0mname\u001b[0m\u001b[0;34m)\u001b[0m\u001b[0;34m\u001b[0m\u001b[0m\n\u001b[0m\u001b[1;32m     68\u001b[0m \u001b[0;34m\u001b[0m\u001b[0m\n\u001b[1;32m     69\u001b[0m     \u001b[0;32mdef\u001b[0m \u001b[0m__getitem__\u001b[0m\u001b[0;34m(\u001b[0m\u001b[0mself\u001b[0m\u001b[0;34m,\u001b[0m \u001b[0mkey\u001b[0m\u001b[0;34m)\u001b[0m\u001b[0;34m:\u001b[0m\u001b[0;34m\u001b[0m\u001b[0m\n",
      "\u001b[0;31mAttributeError\u001b[0m: 'Parameter' object has no attribute 'accGrad'"
     ]
    }
   ],
   "source": [
    "accGrad.variable"
   ]
  },
  {
   "cell_type": "code",
   "execution_count": 163,
   "metadata": {},
   "outputs": [
    {
     "data": {
      "text/plain": [
       "True"
      ]
     },
     "execution_count": 163,
     "metadata": {},
     "output_type": "execute_result"
    }
   ],
   "source": [
    "hasattr(accGrad.variable, 'grad')"
   ]
  },
  {
   "cell_type": "code",
   "execution_count": null,
   "metadata": {},
   "outputs": [],
   "source": []
  },
  {
   "cell_type": "code",
   "execution_count": 166,
   "metadata": {},
   "outputs": [
    {
     "data": {
      "text/plain": [
       "builtin_function_or_method"
      ]
     },
     "execution_count": 166,
     "metadata": {},
     "output_type": "execute_result"
    }
   ],
   "source": [
    "type(accGrad.register_hook)"
   ]
  },
  {
   "cell_type": "code",
   "execution_count": 173,
   "metadata": {},
   "outputs": [
    {
     "name": "stdout",
     "output_type": "stream",
     "text": [
      "Model(\n",
      ")\n",
      "input val: Variable containing:\n",
      " 1\n",
      "[torch.FloatTensor of size 1]\n",
      "\n",
      "output val: Variable containing:\n",
      " 2\n",
      "[torch.FloatTensor of size 1]\n",
      "\n",
      "Variable containing:\n",
      " 2\n",
      "[torch.FloatTensor of size 1]\n",
      "\n"
     ]
    }
   ],
   "source": [
    "import torch\n",
    "from torch import nn\n",
    "import torch.functional as F\n",
    "from torch.autograd import Variable\n",
    "\n",
    "def for_hook(module, input, output):\n",
    "    print(module)\n",
    "    for val in input:\n",
    "        print(\"input val:\",val)\n",
    "    for out_val in output:\n",
    "        print(\"output val:\", out_val)\n",
    "\n",
    "class Model(nn.Module):\n",
    "    def __init__(self):\n",
    "        super(Model, self).__init__()\n",
    "    def forward(self, x):\n",
    "\n",
    "        return x+1\n",
    "\n",
    "model = Model()\n",
    "x = Variable(torch.FloatTensor([1]), requires_grad=True)\n",
    "handle = model.register_forward_hook(for_hook)\n",
    "print(model(x))\n",
    "handle.remove()\n",
    "#model(x)"
   ]
  },
  {
   "cell_type": "code",
   "execution_count": 178,
   "metadata": {},
   "outputs": [
    {
     "name": "stdout",
     "output_type": "stream",
     "text": [
      "variable hook\n",
      "grad Variable containing:\n",
      " 1\n",
      "[torch.FloatTensor of size 1x1]\n",
      "\n",
      "backwarding......\n",
      "module hook\n",
      "grad_out (Variable containing:\n",
      " 0.1000\n",
      "[torch.FloatTensor of size 1x1]\n",
      ",)\n"
     ]
    }
   ],
   "source": [
    "import torch\n",
    "from torch.autograd import Variable\n",
    "import torch.nn as nn\n",
    "from torch.nn import Parameter\n",
    "from torch.autograd import Function\n",
    "import math\n",
    "class _Linear(Function):\n",
    "\n",
    "    # bias is an optional argument\n",
    "    def forward(self, input, weight, bias=None):\n",
    "        self.save_for_backward(input, weight, bias)\n",
    "        output = input.mm(weight.t())\n",
    "        if bias is not None:\n",
    "            output += bias.unsqueeze(0).expand_as(output)\n",
    "        return output\n",
    "\n",
    "    def backward(self, grad_output):\n",
    "        input, weight, bias = self.saved_tensors\n",
    "        grad_input = grad_weight = grad_bias = None\n",
    "        print(\"backwarding......\")\n",
    "        if self.needs_input_grad[0]:\n",
    "            grad_input = grad_output.mm(weight)\n",
    "        if self.needs_input_grad[1]:\n",
    "            grad_weight = grad_output.t().mm(input)\n",
    "        if bias is not None and self.needs_input_grad[2]:\n",
    "            grad_bias = grad_output.sum(0).squeeze(0)\n",
    "\n",
    "        return grad_input, grad_weight, grad_bias\n",
    "\n",
    "def module_hook(module, grad_input, grad_out):\n",
    "    print('module hook')\n",
    "    print('grad_out', grad_out)\n",
    "\n",
    "def variable_hook(grad):\n",
    "    print('variable hook')\n",
    "    print('grad', grad)\n",
    "    return grad*.1\n",
    "\n",
    "class Linear(nn.Module):\n",
    "\n",
    "    def __init__(self, in_features, out_features, bias=True):\n",
    "        super(Linear, self).__init__()\n",
    "        self.in_features = in_features\n",
    "        self.out_features = out_features\n",
    "        self.weight = Parameter(torch.Tensor(out_features, in_features))\n",
    "        if bias:\n",
    "            self.bias = Parameter(torch.Tensor(out_features))\n",
    "        else:\n",
    "            self.register_parameter('bias', None)\n",
    "        self.reset_parameters()\n",
    "\n",
    "    def reset_parameters(self):\n",
    "        stdv = 1. / math.sqrt(self.weight.size(1))\n",
    "        self.weight.data.uniform_(-stdv, stdv)\n",
    "        if self.bias is not None:\n",
    "            self.bias.data.uniform_(-stdv, stdv)\n",
    "\n",
    "    def forward(self, input):\n",
    "        if self.bias is None:\n",
    "            return _Linear()(input, self.weight)\n",
    "        else:\n",
    "            return _Linear()(input, self.weight, self.bias)\n",
    "linear = Linear(3,1)\n",
    "linear.register_backward_hook(module_hook)\n",
    "value = Variable(torch.FloatTensor([[1,2,3]]), requires_grad=True)\n",
    "\n",
    "res = linear(value)\n",
    "res.register_hook(variable_hook)\n",
    "\n",
    "res.backward()"
   ]
  },
  {
   "cell_type": "code",
   "execution_count": 40,
   "metadata": {},
   "outputs": [],
   "source": [
    "from torch.autograd import Variable\n",
    "from torch.utils import data as data_\n",
    "\n",
    "from faster_rcnn.ctorch.config import opt\n",
    "from faster_rcnn.data.dataset import (\n",
    "    Dataset, TestDataset,\n",
    "    # inverse_normalize\n",
    ")"
   ]
  },
  {
   "cell_type": "code",
   "execution_count": 55,
   "metadata": {},
   "outputs": [
    {
     "name": "stdout",
     "output_type": "stream",
     "text": [
      "load data\n"
     ]
    }
   ],
   "source": [
    "opt.voc_data_dir = '/Users/wubai.zhou/Uber/kaggle/data/faster_rcnn/VOCdevkit/VOC2007/'\n",
    "dataset = Dataset(opt)\n",
    "print('load data')\n",
    "dataloader = data_.DataLoader(dataset,\n",
    "                              batch_size=1,\n",
    "                              shuffle=True,\n",
    "                              # pin_memory=True,\n",
    "                              num_workers=4)\n",
    "testset = TestDataset(opt)\n",
    "test_dataloader = data_.DataLoader(testset,\n",
    "                                   batch_size=1,\n",
    "                                   num_workers=4,\n",
    "                                   # pin_memory=True,\n",
    "                                   shuffle=False)"
   ]
  },
  {
   "cell_type": "code",
   "execution_count": 63,
   "metadata": {},
   "outputs": [
    {
     "data": {
      "text/plain": [
       "torch.utils.data.dataloader.DataLoader"
      ]
     },
     "execution_count": 63,
     "metadata": {},
     "output_type": "execute_result"
    }
   ],
   "source": [
    "type(test_dataloader)"
   ]
  },
  {
   "cell_type": "code",
   "execution_count": 64,
   "metadata": {},
   "outputs": [],
   "source": [
    "from tqdm import tqdm\n",
    "imgs, sizes, gt_bboxes_, gt_labels_, gt_difficults_ = testset[0]"
   ]
  },
  {
   "cell_type": "code",
   "execution_count": 70,
   "metadata": {},
   "outputs": [
    {
     "data": {
      "text/plain": [
       "(2, 4)"
      ]
     },
     "execution_count": 70,
     "metadata": {},
     "output_type": "execute_result"
    }
   ],
   "source": [
    "gt_bboxes_.shape"
   ]
  },
  {
   "cell_type": "code",
   "execution_count": 83,
   "metadata": {},
   "outputs": [
    {
     "name": "stderr",
     "output_type": "stream",
     "text": [
      "0it [00:00, ?it/s]\n"
     ]
    }
   ],
   "source": [
    "from tqdm import tqdm\n",
    "for ii, (imgs, sizes, gt_bboxes_, gt_labels_, gt_difficults_) in tqdm(enumerate(test_dataloader)):\n",
    "    if ii == 0:\n",
    "        break"
   ]
  },
  {
   "cell_type": "code",
   "execution_count": 85,
   "metadata": {},
   "outputs": [
    {
     "data": {
      "text/plain": [
       "[\n",
       "  500\n",
       " [torch.LongTensor of size 1], \n",
       "  353\n",
       " [torch.LongTensor of size 1]]"
      ]
     },
     "execution_count": 85,
     "metadata": {},
     "output_type": "execute_result"
    }
   ],
   "source": [
    "import numpy as np\n",
    "sizes"
   ]
  }
 ],
 "metadata": {
  "kernelspec": {
   "display_name": "Python 3",
   "language": "python",
   "name": "python3"
  },
  "language_info": {
   "codemirror_mode": {
    "name": "ipython",
    "version": 3
   },
   "file_extension": ".py",
   "mimetype": "text/x-python",
   "name": "python",
   "nbconvert_exporter": "python",
   "pygments_lexer": "ipython3",
   "version": "3.6.4"
  }
 },
 "nbformat": 4,
 "nbformat_minor": 2
}
